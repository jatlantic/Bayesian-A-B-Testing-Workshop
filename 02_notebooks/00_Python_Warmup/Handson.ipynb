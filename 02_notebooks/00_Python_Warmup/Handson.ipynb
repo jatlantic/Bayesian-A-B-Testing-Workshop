{
 "cells": [
  {
   "cell_type": "markdown",
   "id": "52664f8b-2591-4b40-b28f-584673bef2e4",
   "metadata": {},
   "source": [
    "# Data analysis with Python: a quick refresher\n",
    "\n",
    "<div class=\"alert alert-warning\">\n",
    "<h3>Goal of this session:</h3>\n",
    "\n",
    "The following tasks are aimed to refresh your mind on some of the key Python functionalities in data analysis. In particular, you will practice how to explore, summarize, and visualize data using pandas, seaborn and matplotlib libraries.\n",
    "</div>\n",
    "\n",
    "The dataset that you will be working with is collected from multiple public resources published by the Federal Statistical Office of Switzerland. It contains some of the demographic and geographic information for communes in Switzerland. More specifically, the dataset contains the following information for each commune in Switzerland:\n",
    "\n",
    "* The canton where the commune is located\n",
    "* Name of the commune\n",
    "* Language\n",
    "* Number of residents\n",
    "* Population density per km²\n",
    "* Percentage of residents aged from 0 to 19 years\n",
    "* Percentage of residents aged from 20 to 64 years\n",
    "* Percentage of residents aged 65 years and more\n",
    "* Number of private households\n",
    "* Surface area in km²\n",
    "* Percentage of the Settlement area\n",
    "* Percentage of the Agricultural area\n",
    "* Percentage of the Wooded area\n",
    "* Percentage of the Unproductive area\n",
    "* East coordinate of the center\n",
    "* North coordinate of the center\n",
    "* Median elevation in meters\n",
    "\n",
    "You will analyse this dataset through the following steps:\n",
    "\n",
    "- A. Importing and Cleaning\n",
    "- B. Data Exploration\n",
    "- C. Data Visualizations\n",
    "\n",
    "The path where you can find the dataset in the Github repo of the workshop is: `Day1-01/data.csv`.\n",
    "\n",
    "Let's start by importing the necessary libraries:"
   ]
  },
  {
   "cell_type": "code",
   "execution_count": null,
   "id": "057841fc",
   "metadata": {},
   "outputs": [],
   "source": [
    "import pandas as pd\n",
    "import matplotlib.pyplot as plt\n",
    "import seaborn as sns"
   ]
  },
  {
   "cell_type": "markdown",
   "id": "fdf189ab",
   "metadata": {},
   "source": [
    "<div class=\"alert alert-info\">\n",
    "<h1>A. Importing and Cleaning</h1>\n",
    "</div>\n",
    "\n",
    "\n",
    "The objective of this task is to gain some general information about the dataset before starting your exploration journey. By the end of this task, you will know about the number of observations, the index and columns, the data types, and the missing observations in the dataset. These are necessary information to know about any dataset before jumping into data exploration.\n",
    "\n",
    "> Hint: the following functions can be used to address the tasks in this part:\n",
    "\n",
    "- `read_csv`\n",
    "- `shape`\n",
    "- `head`\n",
    "- `index`\n",
    "- `columns`\n",
    "- `dtypes`\n",
    "- `isna`, `any`\n",
    "- `dropna`"
   ]
  },
  {
   "cell_type": "markdown",
   "id": "fefa1bda",
   "metadata": {},
   "source": [
    "1. Import the data as a Pandas DataFrame and name it as `df`."
   ]
  },
  {
   "cell_type": "code",
   "execution_count": null,
   "id": "277e5641",
   "metadata": {},
   "outputs": [],
   "source": [
    "# write your code here\n"
   ]
  },
  {
   "cell_type": "markdown",
   "id": "c07eb0b3",
   "metadata": {},
   "source": [
    "2. Check the number of rows and columns."
   ]
  },
  {
   "cell_type": "code",
   "execution_count": null,
   "id": "8de6c369",
   "metadata": {},
   "outputs": [],
   "source": [
    "# write your code here\n"
   ]
  },
  {
   "cell_type": "markdown",
   "id": "04ad6ef3",
   "metadata": {},
   "source": [
    "3. Display the first few entries of the DataFrame."
   ]
  },
  {
   "cell_type": "code",
   "execution_count": null,
   "id": "1afeaefd",
   "metadata": {},
   "outputs": [],
   "source": [
    "# write your code here\n"
   ]
  },
  {
   "cell_type": "markdown",
   "id": "d959826d-31d6-4674-8f62-375fa931f077",
   "metadata": {},
   "source": [
    "4. Obtain the index labels, and then show the column names as a `list`."
   ]
  },
  {
   "cell_type": "code",
   "execution_count": null,
   "id": "4e320be7-baa4-4b2f-80bd-e3a613331d1c",
   "metadata": {},
   "outputs": [],
   "source": [
    "# write your code here\n"
   ]
  },
  {
   "cell_type": "code",
   "execution_count": null,
   "id": "0112068f-35ea-4888-a171-f500bb958168",
   "metadata": {},
   "outputs": [],
   "source": [
    "# write your code here\n"
   ]
  },
  {
   "cell_type": "markdown",
   "id": "658e98c9",
   "metadata": {},
   "source": [
    "5. Check the data type for each column."
   ]
  },
  {
   "cell_type": "code",
   "execution_count": null,
   "id": "a7451545",
   "metadata": {},
   "outputs": [],
   "source": [
    "# write your code here\n"
   ]
  },
  {
   "cell_type": "markdown",
   "id": "bea8cbb7",
   "metadata": {},
   "source": [
    "6. Check if there are any missing values and show the rows that contain the missing values."
   ]
  },
  {
   "cell_type": "code",
   "execution_count": null,
   "id": "8dcc0fb4",
   "metadata": {},
   "outputs": [],
   "source": [
    "# write your code here\n"
   ]
  },
  {
   "cell_type": "markdown",
   "id": "e7b61409",
   "metadata": {},
   "source": [
    "7. If necessary remove any observations to ensure that there are no missing values."
   ]
  },
  {
   "cell_type": "code",
   "execution_count": null,
   "id": "8f6c18f3",
   "metadata": {},
   "outputs": [],
   "source": [
    "# write your code here\n"
   ]
  },
  {
   "cell_type": "markdown",
   "id": "6a64f57e",
   "metadata": {},
   "source": [
    "<div class=\"alert alert-info\">\n",
    "<h1>B. Data Exploration</h1>\n",
    "</div>\n",
    "\n",
    "Now that you are familiar with the general structure of the dataset, you can start an exploration adventure! Data exploration or explanatory data analysis enables you to tell a story with the data. It can be done in several ways depending on the objective and data types. In this task, you use your data summarization and aggregation skills to explore the data.\n",
    "\n",
    "> Hint: the following functions can be used to address the tasks in this part:\n",
    "\n",
    "- `describe`\n",
    "- `loc`\n",
    "- `sort_values`\n",
    "- `groupby`\n",
    "- `count`\n",
    "- `agg`\n",
    "- `apply`"
   ]
  },
  {
   "cell_type": "markdown",
   "id": "52fcdceb-7a9c-4f2f-a8f5-690c9001ac1e",
   "metadata": {},
   "source": [
    "1. Obtain the mean, minimum and maximum value for each column containing numerical data."
   ]
  },
  {
   "cell_type": "code",
   "execution_count": null,
   "id": "2704d10b-df8b-4e9f-9867-920eb1fa0f7c",
   "metadata": {},
   "outputs": [],
   "source": [
    "# write your code here\n"
   ]
  },
  {
   "cell_type": "markdown",
   "id": "da12c77d-d888-42df-b708-9ce8f282b83b",
   "metadata": {},
   "source": [
    "2. List the 10 most populated communes, ordered by their number of 'Residents'."
   ]
  },
  {
   "cell_type": "code",
   "execution_count": null,
   "id": "16395997-6e72-4a08-ae95-aa4f6283bb14",
   "metadata": {},
   "outputs": [],
   "source": [
    "# write your code here\n"
   ]
  },
  {
   "cell_type": "markdown",
   "id": "07265482",
   "metadata": {},
   "source": [
    "3. Compute the number of communes in each canton where more than 50 percent of their populations are aged between 20 and 64 years old.\n",
    "You should group the communes by cantons, and then count how many communes have at least 50 percent of their population between 20 and 64 years old. Note that the column '20-64 years' holds percentage of people aged between 20 and 64 years old."
   ]
  },
  {
   "cell_type": "code",
   "execution_count": null,
   "id": "77dd5e23",
   "metadata": {},
   "outputs": [],
   "source": [
    "# write your code here\n"
   ]
  },
  {
   "cell_type": "markdown",
   "id": "a405e61e",
   "metadata": {
    "tags": []
   },
   "source": [
    "4. Compute the difference between the maximum and minimum elevations for each canton. Find the top 5 cantons that have the largest range of elevations?\n",
    "Note that the column 'Elevation' holds the elevation for each commune."
   ]
  },
  {
   "cell_type": "code",
   "execution_count": null,
   "id": "19daaec4",
   "metadata": {},
   "outputs": [],
   "source": [
    "# write your code here\n"
   ]
  },
  {
   "cell_type": "markdown",
   "id": "80055ea4",
   "metadata": {},
   "source": [
    "5. The following image shows a matrix whose rows correspond to communes and the columns to the cantons. The matrix is filled in with 0 and 1 values where entry $(i,j)$ is a 1 if the commune in row $i$ is in the canton in column $j$ and a 0 otherwise. Write a code that can generate the matrix."
   ]
  },
  {
   "cell_type": "markdown",
   "id": "e62987c6",
   "metadata": {},
   "source": [
    "<img src=\"img/plot_output_4.png\" width=500 height=250 />"
   ]
  },
  {
   "cell_type": "code",
   "execution_count": null,
   "id": "0203794d",
   "metadata": {},
   "outputs": [],
   "source": [
    "# write your code here\n"
   ]
  },
  {
   "cell_type": "markdown",
   "id": "d7f9900e",
   "metadata": {},
   "source": [
    "<div class=\"alert alert-info\">\n",
    "<h1>C. Data Visualizations</h1>\n",
    "</div>\n",
    "\n",
    "Let's continue the explanatory data analysis but this time with visualizations. Visual exploration is a powerful way to learn about the distributions and the relationship between columns and add them to your story. In this task, you use your data visualization skills to explore the data.\n",
    "\n",
    "> Hint: the following functions can be used to address the tasks in this part:\n",
    "\n",
    "- `barh`\n",
    "- `xlabel`\n",
    "- `title`\n",
    "- `legend`\n",
    "- `violinplot`\n",
    "- `subplots`\n",
    "- `boxplot`\n",
    "- `pairplot`\n",
    "- `scatterplot`"
   ]
  },
  {
   "cell_type": "markdown",
   "id": "6200907f",
   "metadata": {},
   "source": [
    "1. Your task is to obtain a **horizontal** bar plot that shows the top 10 populated communes. Your bar chart should have the names of the communes listed vertically along the $y$-axis and the $x$-axis should show the populations. "
   ]
  },
  {
   "cell_type": "code",
   "execution_count": null,
   "id": "08500a06",
   "metadata": {},
   "outputs": [],
   "source": [
    "# write your code here\n"
   ]
  },
  {
   "cell_type": "markdown",
   "id": "ee7d4b45",
   "metadata": {},
   "source": [
    "2. For the top 10 populated communes of the previous step, your task now is to plot a horizontal **stacked** bar chart that shows how their lands are divided into the 4 area types: Settlement, Agricultural, Wooded, Unproductive. Remember that these 4 area types represent the percentages and should add up to 100 for each commune. Ensure that the chart has an appropriate title, legend and labels. Your output should look like the following plot."
   ]
  },
  {
   "cell_type": "markdown",
   "id": "3ddcad9e-d54f-47d0-99e8-ba6e1fc3af0f",
   "metadata": {},
   "source": [
    "<img src=\"img/plot_output_1.png\" width=600 height=300 />"
   ]
  },
  {
   "cell_type": "code",
   "execution_count": null,
   "id": "6db22d9b-7168-45be-8ea4-772bbab44384",
   "metadata": {},
   "outputs": [],
   "source": [
    "# write your code here\n"
   ]
  },
  {
   "cell_type": "markdown",
   "id": "3694e405",
   "metadata": {},
   "source": [
    "3. Your task is to investigate the distributions of the age group 0-19 years, which is a numerical variable, across four language regions, which is a categorical variable. Hint: you can [choose](https://seaborn.pydata.org/tutorial/categorical.html) from Seaborn one of the violin plot, box plot or boxen plot for this purpose."
   ]
  },
  {
   "cell_type": "code",
   "execution_count": null,
   "id": "0e6511b4",
   "metadata": {},
   "outputs": [],
   "source": [
    "# write your code here\n"
   ]
  },
  {
   "cell_type": "markdown",
   "id": "953d91dc-24c5-4e4e-b2bb-8ff2d9f9d069",
   "metadata": {},
   "source": [
    "4. Your task is to do the previous task for the three age groups 0-19 years, 20-64 years, and 65 years or over. In order to make the comparison easy, you should make a plot with one subplot per age group (plot with 1 row and 3 columns).  The $y$-axis of the subplot should show the percentages of the populations for age groups, ranging from 0 to 80%. Hint: you can use `sharey` parameter of the subplot."
   ]
  },
  {
   "cell_type": "code",
   "execution_count": null,
   "id": "b366299e",
   "metadata": {},
   "outputs": [],
   "source": [
    "# write your code here\n"
   ]
  },
  {
   "cell_type": "markdown",
   "id": "7121c4cf",
   "metadata": {},
   "source": [
    "5. Your task is to use the pairplot from Seaborn and produce **3 plots** to visually investigate the relation between the Agricultural area of communes and their Settlement area, Wooded area and the Unproductive area. Use the Elevation as the color-code variable in the plot and show that communes that are located in high altitudes have very low Settlement and Agricultural areas, but have a lot of Unproductive areas. Your output should look like the following plot."
   ]
  },
  {
   "cell_type": "markdown",
   "id": "72ada358-eaaf-4d1d-8bff-eb120a25388d",
   "metadata": {},
   "source": [
    "![title](img/plot_output_2.png)\n"
   ]
  },
  {
   "cell_type": "code",
   "execution_count": null,
   "id": "efe5a056-cd3b-449d-9fcc-f7654e2dd332",
   "metadata": {},
   "outputs": [],
   "source": [
    "# write your code here\n"
   ]
  },
  {
   "cell_type": "markdown",
   "id": "168cd144",
   "metadata": {},
   "source": [
    "6. Your task is to use Seaborn scatter plot and draw maps of Switzerland using the East and North coordinates of communes. Write a code that can generate the following plots."
   ]
  },
  {
   "cell_type": "markdown",
   "id": "768b629a-e2a1-43cd-b6fe-c9a090e143fb",
   "metadata": {},
   "source": [
    "![title](img/plot_output_3.png)\n"
   ]
  },
  {
   "cell_type": "code",
   "execution_count": null,
   "id": "fcc69c67-a6fe-4d8d-ae2e-ece66adcbc6d",
   "metadata": {},
   "outputs": [],
   "source": [
    "# write your code here\n"
   ]
  }
 ],
 "metadata": {
  "kernelspec": {
   "display_name": "Python 3 (ipykernel)",
   "language": "python",
   "name": "python3"
  },
  "language_info": {
   "codemirror_mode": {
    "name": "ipython",
    "version": 3
   },
   "file_extension": ".py",
   "mimetype": "text/x-python",
   "name": "python",
   "nbconvert_exporter": "python",
   "pygments_lexer": "ipython3",
   "version": "3.10.12"
  },
  "toc-autonumbering": false,
  "toc-showcode": false,
  "toc-showmarkdowntxt": false,
  "toc-showtags": false
 },
 "nbformat": 4,
 "nbformat_minor": 5
}

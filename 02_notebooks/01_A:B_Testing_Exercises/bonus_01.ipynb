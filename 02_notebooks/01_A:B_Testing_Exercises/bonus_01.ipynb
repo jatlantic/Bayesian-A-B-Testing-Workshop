{
 "cells": [
  {
   "cell_type": "markdown",
   "id": "244d3d3b",
   "metadata": {},
   "source": [
    "# Bonus Exercise\n",
    "\n",
    "<div class=\"alert alert-warning\">\n",
    "<h3>Objective:</h3>\n",
    "\n",
    "The following tasks are aimed to help you gain deeper insight when implementing an A/B test. The insight gained from this exercise will help you understand the importance of the following aspects of an A/B test:\n",
    "\n",
    "- Probability of making an error and the subsequent impact on the conversion rate\n",
    "- The number of samples required to run an A/B test. Or the duration for which the A/B test should be run\n",
    " \n",
    "</div>"
   ]
  },
  {
   "cell_type": "markdown",
   "id": "c20c4cc5",
   "metadata": {},
   "source": [
    "Consider a scenario where you have implemented an A/B test with the following specifications:\n",
    "\n",
    "- You assumed a $\\beta(1,1)$ as the prior for both variants.\n",
    "- You have 10 samples and 0.2 conversion rate for variant A.\n",
    "- You have 10 samples and 0.3 conversion rate for variant B.\n",
    "- You have obtained the posterior distributions of conversion rates for both variants.\n",
    "\n",
    "You decide to stop the test and declare B as the winner. However, you are not sure if you have made the right decision. So, you decide to run a few checks. You find out that:\n",
    "\n",
    "- About two third of times variant B happen to be better than variant A.\n",
    "- On average, there is an about 4% loss in conversion rate by choosing variant B over variant A.\n",
    "\n",
    "<div class=\"alert alert-info\">\n",
    "<h4>Task 1</h4>\n",
    "\n",
    "Your task is to develop solution methods that give you the above mentioned quantities (two third as a probability, and 4% loss) using three different methods:\n",
    "\n",
    "1. Closed form solution\n",
    "2. Numerical approximation\n",
    "3. Simulation i.e. based on the outcomes from PyMC\n",
    "</div>\n",
    "\n",
    "<div class=\"alert alert-info\">\n",
    "<h4>Task 2</h4>\n",
    "\n",
    "You realize that the 4% loss in conversion rate is not acceptable. So, you decide to collect more samples. But at some point you have to stop the test. You decide to stop the test when the loss in conversion rate drops below 1%. How many more samples you need to collect to drop the loss to less than 1%? For simplicity assume that $N_A$ = $N_B$.\n",
    "\n",
    "</div>\n"
   ]
  },
  {
   "cell_type": "markdown",
   "id": "36f37827",
   "metadata": {},
   "source": [
    "<div class=\"alert alert-success\">\n",
    "\n",
    "Hint: given $\\theta_A \\sim \\beta(a_1,b_1)$ and $\\theta_B \\sim \\beta(a_2,b_2)$ as posterior distributions for the conversion rates of variants A and B, we can show that:\n",
    "\n",
    "\\begin{align*}\n",
    "P(\\theta_B > \\theta_A) &= 1- H(a_1,b_1,a_2,b_2)\n",
    "\\end{align*}\n",
    "\n",
    "where $H(a_1,b_1,a_2,b_2)$ can be calculated using the following function:\n",
    "\n",
    "\n",
    "\n",
    "```\n",
    "from scipy.special import gamma\n",
    "\n",
    "def compute_H(a_1,b_1,a_2,b_2):\n",
    "    prob = 0\n",
    "    for i in range(a_2):\n",
    "        prob += gamma(a_1+i)*gamma(b_1+b_2)*gamma(1+b_2+i)*gamma(a_1+b_1)/gamma(a_1+b_1+b_2+i)/gamma(1+i)/gamma(b_2)/gamma(a_1)/gamma(b_1)/(b_2+i)\n",
    "    return 1-prob\n",
    "```\n",
    "</div>\n"
   ]
  }
 ],
 "metadata": {
  "kernelspec": {
   "display_name": "Python 3 (ipykernel)",
   "language": "python",
   "name": "python3"
  },
  "language_info": {
   "codemirror_mode": {
    "name": "ipython",
    "version": 3
   },
   "file_extension": ".py",
   "mimetype": "text/x-python",
   "name": "python",
   "nbconvert_exporter": "python",
   "pygments_lexer": "ipython3",
   "version": "3.10.12"
  }
 },
 "nbformat": 4,
 "nbformat_minor": 5
}

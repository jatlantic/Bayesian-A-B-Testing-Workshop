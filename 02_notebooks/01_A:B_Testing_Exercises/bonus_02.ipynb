{
 "cells": [
  {
   "cell_type": "markdown",
   "id": "244d3d3b",
   "metadata": {},
   "source": [
    "# Bonus Exercise\n",
    "\n",
    "<div class=\"alert alert-warning\">\n",
    "<h3>Objective:</h3>\n",
    "\n",
    "The following tasks are aimed to help you gain deeper insight when implementing an A/B test. The insight gained from this exercise will help you understand the role of sample size in the result of an A/B test.\n",
    " \n",
    "</div>"
   ]
  },
  {
   "cell_type": "markdown",
   "id": "c20c4cc5",
   "metadata": {},
   "source": [
    "Consider a scenario where you have two variants A and B with the following specifications:\n",
    "\n",
    "- Variant A has the conversion rate of 0.2\n",
    "- Variant B has the conversion rate of 0.25\n",
    "- Both variants have a $\\beta(100,100)$ as their conversion rate prior\n",
    "\n",
    "\n",
    "<div class=\"alert alert-info\">\n",
    "<h4>Task 1</h4>\n",
    "\n",
    "Your task is to investigate how increasing the sample size affects the results of the A/B test. In particular, you need to investigate the following:\n",
    "\n",
    "1. Vary the sample size and investigate how the uplift changes. \n",
    "2. Repeat this for a strong prior e.g. $\\beta(1000,1000)$ instead of $\\beta(100,100)$\n",
    "\n",
    "</div>"
   ]
  },
  {
   "cell_type": "markdown",
   "id": "36f37827",
   "metadata": {},
   "source": [
    "<div class=\"alert alert-success\">\n",
    "\n",
    "Hints: \n",
    "\n",
    "- Create a for-loop and vary the sample size according to this list: [20, 50, 100, 200, 500, 1000] \n",
    "- For simplicity, you can assume that the sample size is the same for both variants.\n",
    "- Let the conversion rates remain constant while varying the sample size.\n",
    "- Plot the uplift distribution vs the sample size and discuss your findings.\n",
    "- Repeat the above steps for a strong prior e.g. $\\beta(1000,1000)$ instead of $\\beta(100,100)$"
   ]
  },
  {
   "cell_type": "markdown",
   "id": "07f5cb77",
   "metadata": {},
   "source": [
    "<div class=\"alert alert-info\">\n",
    "<h4>Task 2</h4>\n",
    "\n",
    "Perform A/B/C test on the data and try to find the best variant.\n",
    "\n",
    "</div>"
   ]
  }
 ],
 "metadata": {
  "kernelspec": {
   "display_name": "workshop",
   "language": "python",
   "name": "python3"
  },
  "language_info": {
   "codemirror_mode": {
    "name": "ipython",
    "version": 3
   },
   "file_extension": ".py",
   "mimetype": "text/x-python",
   "name": "python",
   "nbconvert_exporter": "python",
   "pygments_lexer": "ipython3",
   "version": "3.10.12"
  }
 },
 "nbformat": 4,
 "nbformat_minor": 5
}

{
 "cells": [
  {
   "cell_type": "markdown",
   "id": "36b8ce98-ed19-4935-999c-1a08ee9ceffa",
   "metadata": {},
   "source": [
    "# Probability distributions: a quick refresher\n",
    "\n",
    "<div class=\"alert alert-warning\">\n",
    "<h3>Goal of this session:</h3>\n",
    "\n",
    "The following tasks are aimed to refresh your mind on some of the key statistical distributions that you will encounter in this course. The insight gained from this session will help you understand:\n",
    "- the concept of probability distributions\n",
    "- how distributions are changed by different parameters\n",
    "- how some distributions are related to each other\n",
    "\n",
    "Your observations here will help you to have an smooth learning experience when you get to Bayesian statistics in the next session.\n",
    "</div>\n",
    "\n",
    "You will use [SciPy statistical function](https://docs.scipy.org/doc/scipy/reference/stats.html) module and work with several probability distributions through the following steps: \n",
    "\n",
    "- Generating the mean, variance, skewness, and kurtosis of a distribution\n",
    "- Drawing sample from a distribution and plotting them\n",
    "\n",
    "Let's start by importing the necessary libraries."
   ]
  },
  {
   "cell_type": "code",
   "execution_count": null,
   "id": "dec251e5-abd0-4bc7-8731-4826323e8266",
   "metadata": {},
   "outputs": [],
   "source": [
    "import scipy.stats as stats\n",
    "import numpy as np\n",
    "import matplotlib.pyplot as plt\n",
    "from scipy.stats import uniform, beta, bernoulli, norm, t, gamma, expon, binom"
   ]
  },
  {
   "cell_type": "code",
   "execution_count": null,
   "id": "c854f981",
   "metadata": {},
   "outputs": [],
   "source": [
    "# define some style for the plots\n",
    "pvars = dict(histtype='step', bins='auto', density=True, linewidth=1.5)"
   ]
  },
  {
   "cell_type": "markdown",
   "id": "99cffb85-f7df-460e-81d2-b36f61cf23d6",
   "metadata": {
    "tags": []
   },
   "source": [
    "## Example: Normal distribution\n",
    "> Use `norm` function. Learn more about it [here](https://docs.scipy.org/doc/scipy/reference/generated/scipy.stats.norm.html#scipy.stats.norm)"
   ]
  },
  {
   "cell_type": "code",
   "execution_count": null,
   "id": "a996f1e5-7d47-4100-b6d3-fa46e0dff6e9",
   "metadata": {},
   "outputs": [],
   "source": [
    "# set the mean and standard deviation\n",
    "m, s = 0, 1 \n",
    "\n",
    "# find the theoretical properties\n",
    "mean, var, skew, kurt = norm.stats(m, s, moments='mvsk')\n",
    "display(mean, var, skew, kurt)"
   ]
  },
  {
   "cell_type": "code",
   "execution_count": null,
   "id": "f4200edd-6379-4784-bff9-cef93e9566df",
   "metadata": {},
   "outputs": [],
   "source": [
    "# drawing 10000 samples from normal(m,s) distribution \n",
    "sample = norm.rvs(m, s, size = (10000,1)) \n",
    "\n",
    "# plot probability distribution\n",
    "plt.hist(sample, **pvars)\n",
    "plt.xlabel('sample values')\n",
    "plt.title('Normal PDF')\n",
    "plt.show()"
   ]
  },
  {
   "cell_type": "markdown",
   "id": "b5b53425",
   "metadata": {},
   "source": [
    "## Exercises\n",
    "\n",
    "Run the following codes by filling in the empty spaces indicated by `< >`. Then answer the questions in each Task."
   ]
  },
  {
   "cell_type": "markdown",
   "id": "2cb2ee61-0610-4984-b11e-e88b787b7872",
   "metadata": {},
   "source": [
    "### Students' T-distribution\n",
    "> Use `t` function. Learn more about it [here](https://docs.scipy.org/doc/scipy/reference/generated/scipy.stats.t.html#scipy.stats.t)"
   ]
  },
  {
   "cell_type": "code",
   "execution_count": null,
   "id": "d302b9a1-bb1e-4d68-b2b8-f5699af78d3e",
   "metadata": {},
   "outputs": [],
   "source": [
    "# set the degrees of freedom (d>0)\n",
    "d = < >\n",
    "\n",
    "# find the theoretical properties\n",
    "mean, var, skew, kurt = < >.stats(< >, moments='mvsk')\n",
    "display(mean, var, skew, kurt)"
   ]
  },
  {
   "cell_type": "code",
   "execution_count": null,
   "id": "ec8d8162-b16c-48b0-a596-b87c24977772",
   "metadata": {},
   "outputs": [],
   "source": [
    "# drawing 10000 samples from Students' T-distribution\n",
    "sample = < >.rvs(< >, size = (10000,1)) \n",
    "\n",
    "# plot probability distribution\n",
    "plt.hist(sample, **pvars)\n",
    "plt.xlabel('sample values')\n",
    "plt.title('Students-T PDF')\n",
    "plt.show()"
   ]
  },
  {
   "cell_type": "markdown",
   "id": "fd542bd0",
   "metadata": {},
   "source": [
    "<div class=\"alert alert-info\">\n",
    "<h4>Task 1</h4>\n",
    "\n",
    "Let's vary the `degrees of freedom` and see how the distribution changes.\n",
    "In particular, compare the outcome with the normal distribution.<br>\n",
    "</div>"
   ]
  },
  {
   "cell_type": "markdown",
   "id": "68c76fd1",
   "metadata": {},
   "source": [
    "**Answer**\n",
    "\n",
    "write your answer here"
   ]
  },
  {
   "cell_type": "markdown",
   "id": "e3bfc225-4dc1-4a9e-b9fe-bb89d4ddf858",
   "metadata": {
    "tags": []
   },
   "source": [
    "### Uniform distribution\n",
    "> Use `uniform` function. Learn more about it [here](https://docs.scipy.org/doc/scipy/reference/generated/scipy.stats.uniform.html#scipy.stats.uniform)"
   ]
  },
  {
   "cell_type": "code",
   "execution_count": null,
   "id": "8fee0a85-3eb2-473c-aa65-3e67849fa7ff",
   "metadata": {},
   "outputs": [],
   "source": [
    "# set the boundaries (-inf < a < b < inf)\n",
    "a, b = < >, < >\n",
    "\n",
    "# find the theoretical properties\n",
    "mean, var, skew, kurt = < >.stats(< >, < >, moments='mvsk')\n",
    "display(mean, var, skew, kurt)"
   ]
  },
  {
   "cell_type": "code",
   "execution_count": null,
   "id": "f9c10e77-ac31-4900-831e-ca8507b9daee",
   "metadata": {},
   "outputs": [],
   "source": [
    "# drawing 10000 samples from uniform(a,b) distribution \n",
    "sample = < >.rvs(< >, < >, size = (10000,1)) \n",
    "\n",
    "# plot probability distribution\n",
    "plt.hist(sample, **pvars)\n",
    "plt.xlabel('sample values')\n",
    "plt.title('Uniform PDF')\n",
    "plt.show()"
   ]
  },
  {
   "cell_type": "markdown",
   "id": "0bb3c277-f3e5-42a6-a0b7-c4d41c2ece12",
   "metadata": {
    "tags": []
   },
   "source": [
    "### Beta distribution\n",
    "> Use `beta` function. Learn more about it [here](https://docs.scipy.org/doc/scipy/reference/generated/scipy.stats.beta.html#scipy.stats.beta)"
   ]
  },
  {
   "cell_type": "code",
   "execution_count": null,
   "id": "1c31149c-89a8-4385-b7ee-e19bb5cb24aa",
   "metadata": {},
   "outputs": [],
   "source": [
    "# set the parameters (a>0, b>0)\n",
    "a, b = < >, < >\n",
    "\n",
    "# find the theoretical properties\n",
    "mean, var, skew, kurt = < >.stats(< >, < >, moments='mvsk')\n",
    "display(mean, var, skew, kurt)"
   ]
  },
  {
   "cell_type": "code",
   "execution_count": null,
   "id": "73987528-28d0-4abd-88a3-e65f309b68c9",
   "metadata": {},
   "outputs": [],
   "source": [
    "# drawing 10000 samples from beta(a,b) distribution \n",
    "sample = < >.rvs(< >, < >, size = (10000,1)) \n",
    "\n",
    "# plot probability distribution\n",
    "plt.hist(sample, **pvars)\n",
    "plt.xlabel('sample values')\n",
    "plt.title('Beta PDF')\n",
    "plt.show()"
   ]
  },
  {
   "cell_type": "markdown",
   "id": "e5450efb",
   "metadata": {},
   "source": [
    "<div class=\"alert alert-info\">\n",
    "<h4>Task 2</h4>\n",
    "Let's vary the `a` and `b` parameters and see how the distribution changes:\n",
    "\n",
    "1. Try `a=b=1`, and compare the distribution with the Uniform distribution.\n",
    "2. Try `a > b`, what do you learn from the distribution? \n",
    "3. Try `a < b`, what do you learn from the distribution?\n",
    "4. Try `a = b`, what do you learn from the distribution? \n",
    "<br>\n",
    "</div>"
   ]
  },
  {
   "cell_type": "markdown",
   "id": "ead3e0b0",
   "metadata": {},
   "source": [
    "**Answer**\n",
    "\n",
    "write your answer here"
   ]
  },
  {
   "cell_type": "markdown",
   "id": "030545e5",
   "metadata": {},
   "source": [
    "<div class=\"alert alert-info\">\n",
    "<h4>Task 3</h4>\n",
    "\n",
    "Redo the uniform distribution for `a = 0, b = 1`.  What is the range of values on the x-axis that both Uniform(0,1) and Beta distributions can take? \n",
    "<br>\n",
    "</div>"
   ]
  },
  {
   "cell_type": "markdown",
   "id": "8fa304f1",
   "metadata": {},
   "source": [
    "**Answer**\n",
    "\n",
    "write your answer here"
   ]
  },
  {
   "cell_type": "markdown",
   "id": "50d81341",
   "metadata": {},
   "source": [
    "### Exponential distribution\n",
    "> Use `expon` function. Learn more about it [here](https://docs.scipy.org/doc/scipy/reference/generated/scipy.stats.expon.html#scipy.stats.expon)"
   ]
  },
  {
   "cell_type": "code",
   "execution_count": null,
   "id": "0040c1e8",
   "metadata": {},
   "outputs": [],
   "source": [
    "# set the scale parameter (s>0)\n",
    "s = < >\n",
    "\n",
    "# find the theoretical properties\n",
    "mean, var, skew, kurt = < >.stats(loc=0, scale=< >, moments='mvsk')\n",
    "display(mean, var, skew, kurt)"
   ]
  },
  {
   "cell_type": "code",
   "execution_count": null,
   "id": "ba896dbf",
   "metadata": {},
   "outputs": [],
   "source": [
    "# drawing 10000 samples from Exponential(s) distribution \n",
    "sample = < >.rvs(loc=0, scale=< >, size = (10000,1)) \n",
    "\n",
    "# plot probability distribution\n",
    "plt.hist(sample, **pvars)\n",
    "plt.xlabel('sample values')\n",
    "plt.title('Exponential PDF')\n",
    "plt.show()"
   ]
  },
  {
   "cell_type": "markdown",
   "id": "06742c29",
   "metadata": {},
   "source": [
    "### Gamma distribution\n",
    "> Use `gamma` function. Learn more about it [here](https://docs.scipy.org/doc/scipy/reference/generated/scipy.stats.gamma.html#scipy.stats.gamma)"
   ]
  },
  {
   "cell_type": "code",
   "execution_count": null,
   "id": "e6ea6f22",
   "metadata": {},
   "outputs": [],
   "source": [
    "# set the shape and scale parameters (a>0, s>0)\n",
    "a, s = < >, < >\n",
    "\n",
    "# find the theoretical properties\n",
    "mean, var, skew, kurt = < >.stats(< >, loc=0, scale=< >, moments='mvsk')\n",
    "display(mean, var, skew, kurt)"
   ]
  },
  {
   "cell_type": "code",
   "execution_count": null,
   "id": "a50c24cd",
   "metadata": {},
   "outputs": [],
   "source": [
    "# drawing 10000 samples from gamma(a,s) distribution \n",
    "sample = < >.rvs(< >, loc=0, scale=< >, size = (10000,1)) \n",
    "\n",
    "# plot probability distribution\n",
    "plt.hist(sample, **pvars)\n",
    "plt.xlabel('sample values')\n",
    "plt.title('Gamma PDF')\n",
    "plt.show()"
   ]
  },
  {
   "cell_type": "markdown",
   "id": "c8ce1b14",
   "metadata": {},
   "source": [
    "<div class=\"alert alert-info\">\n",
    "<h4>Task 4</h4>\n",
    "\n",
    "1. Vary `a` and `s` parameters and see how the Gamma distribution changes.\n",
    "\n",
    "2. Try `a=1` in the Gamma distribution, and set `s` to a value of your choice in both Exponential and Gamma distributions. Do both distributions look similar?\n",
    "<br>\n",
    "</div>"
   ]
  },
  {
   "cell_type": "markdown",
   "id": "5c685031",
   "metadata": {},
   "source": [
    "**Answer**\n",
    "\n",
    "write your answer here"
   ]
  },
  {
   "cell_type": "markdown",
   "id": "2890a088",
   "metadata": {},
   "source": [
    "<div class=\"alert alert-info\">\n",
    "<h4>Task 5</h4>\n",
    "\n",
    "\n",
    "What is the range of values on the x-axis that both Exponential and Gamma distributions can take?\n",
    "<br>\n",
    "</div>"
   ]
  },
  {
   "cell_type": "markdown",
   "id": "0856d063",
   "metadata": {},
   "source": [
    "**Answer**\n",
    "\n",
    "write your answer here"
   ]
  },
  {
   "cell_type": "markdown",
   "id": "9f456f50-231a-4a10-89a3-2097b9c55a0c",
   "metadata": {
    "tags": []
   },
   "source": [
    "### Bernoulli distribution\n",
    "> Use `bernoulli` function. Learn more about it [here](https://docs.scipy.org/doc/scipy/reference/generated/scipy.stats.bernoulli.html#scipy.stats.bernoulli)"
   ]
  },
  {
   "cell_type": "code",
   "execution_count": null,
   "id": "acb7be51-e6b2-440b-8391-6ad0b9b22b25",
   "metadata": {},
   "outputs": [],
   "source": [
    "# set the probability of success (0<=p<=1)\n",
    "p = < >\n",
    "\n",
    "# find the theoretical properties\n",
    "mean, var, skew, kurt = < >.stats(< >, moments='mvsk')\n",
    "display(mean, var, skew, kurt)"
   ]
  },
  {
   "cell_type": "code",
   "execution_count": null,
   "id": "afd5740a-542c-4717-a77f-48356e2d4b00",
   "metadata": {},
   "outputs": [],
   "source": [
    "# drawing 10000 samples from bernoulli(p) distribution \n",
    "sample = < >.rvs(< >,size = (10000,1))\n",
    "\n",
    "# plot probability distribution\n",
    "plt.hist(sample, **pvars)\n",
    "plt.xlabel('sample values')\n",
    "plt.title('Bernoulli PMF')\n",
    "plt.show()"
   ]
  },
  {
   "cell_type": "markdown",
   "id": "889d97f3",
   "metadata": {},
   "source": [
    "### Binomial distribution\n",
    "> Use `binom` function. Learn more about it [here](https://docs.scipy.org/doc/scipy/reference/generated/scipy.stats.binom.html#scipy.stats.binom)"
   ]
  },
  {
   "cell_type": "code",
   "execution_count": null,
   "id": "d806711b",
   "metadata": {},
   "outputs": [],
   "source": [
    "# set the number of trials and probability of success (n>0, 0<=p<=1)\n",
    "n, p = < >, < >\n",
    "\n",
    "# find the theoretical properties\n",
    "mean, var, skew, kurt = < >.stats(< >,< >, moments='mvsk')\n",
    "display(mean, var, skew, kurt)"
   ]
  },
  {
   "cell_type": "code",
   "execution_count": null,
   "id": "dfb3e3d7",
   "metadata": {},
   "outputs": [],
   "source": [
    "# drawing 10000 samples from Binomial(n,p) distribution \n",
    "sample = < >.rvs(< >,< >,size = (10000,1))\n",
    "\n",
    "# plot probability distribution\n",
    "plt.hist(sample, **pvars)\n",
    "plt.xlabel('sample values')\n",
    "plt.title('Binomial PMF')\n",
    "plt.show()"
   ]
  },
  {
   "cell_type": "markdown",
   "id": "e05bc353",
   "metadata": {},
   "source": [
    "<div class=\"alert alert-info\">\n",
    "<h4>Task 6</h4>\n",
    "\n",
    "1. Vary the `n` and `p` parameters and see how the Binomial distribution changes.\n",
    "\n",
    "2. Try `n=1` in the Binomial distribution, and set `p` to a value of your choice in both Bernoulli and Binomial distributions. Do both distributions look similar?\n",
    "<br>\n",
    "</div>"
   ]
  },
  {
   "cell_type": "markdown",
   "id": "45a7708c",
   "metadata": {},
   "source": [
    "**Answer**\n",
    "\n",
    "write your answer here"
   ]
  },
  {
   "cell_type": "markdown",
   "id": "eac25433",
   "metadata": {},
   "source": [
    "<div class=\"alert alert-info\">\n",
    "<h4>Task 7</h4>\n",
    "\n",
    "What is the range of values on the x-axis that both Bernoulli and Binomial distributions can take?\n",
    "<br>\n",
    "</div>"
   ]
  },
  {
   "cell_type": "markdown",
   "id": "ad63c4d6",
   "metadata": {},
   "source": [
    "**Answer**\n",
    "\n",
    "write your answer here"
   ]
  },
  {
   "cell_type": "markdown",
   "id": "ad2aca44",
   "metadata": {},
   "source": [
    "<div class=\"alert alert-info\">\n",
    "<h4>Bonus Question</h4>\n",
    "\n",
    "1. Write a code that empirically show the sum of five idential and independent Bernoulli random variables with `p=0.5` is a Binomial random variable with `n=5` and `p=0.5`.\n",
    "\n",
    "<br>\n",
    "</div>"
   ]
  },
  {
   "cell_type": "markdown",
   "id": "59a9f2f7-c204-4cd1-ae02-9f0d51d88986",
   "metadata": {},
   "source": [
    "<div class=\"alert alert-info\">\n",
    "\n",
    "2. Write a code that returns the $\\alpha$ and $\\beta$ in the Beta distribution based on a given mean and variance of this distribution.\n",
    "\n",
    "<br>\n",
    "</div>"
   ]
  }
 ],
 "metadata": {
  "kernelspec": {
   "display_name": "Python 3 (ipykernel)",
   "language": "python",
   "name": "python3"
  },
  "language_info": {
   "codemirror_mode": {
    "name": "ipython",
    "version": 3
   },
   "file_extension": ".py",
   "mimetype": "text/x-python",
   "name": "python",
   "nbconvert_exporter": "python",
   "pygments_lexer": "ipython3",
   "version": "3.10.12"
  },
  "toc-autonumbering": false
 },
 "nbformat": 4,
 "nbformat_minor": 5
}

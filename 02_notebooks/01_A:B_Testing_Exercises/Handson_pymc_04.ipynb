{
 "cells": [
  {
   "cell_type": "markdown",
   "id": "ccceafa0-9456-4bde-8cf9-f4b1b92f2f3a",
   "metadata": {},
   "source": [
    "# A/B Testing in PyMC: part 1\n",
    "\n",
    "<div class=\"alert alert-warning\">\n",
    "<h2>Goal of this session:</h2>\n",
    "\n",
    "In this hands-on session, you will continue working with the synthetic dataset from yesterday. Your goal is to be able to perform Bayesian inference using the PyMC library. The insight gained from this session will help you understand:\n",
    "\n",
    "- How to perform Bayesian A/B testing on data with Bernoulli conversions\n",
    "- How to interpret the results\n",
    "- How to use ArviZ library to visualize the results\n",
    "\n",
    "</div>\n",
    "\n",
    "\n",
    "Let's practice what you have learned this morning. You will be using the [PyMC library](https://www.pymc.io/welcome.html) to do Bayesian inference and explore posterior distributions. \n",
    "\n",
    "You only workout the case of two variants A and B with **Bernoulli conversions** using the data from yesterday. Let's start by importing the necessary libraries."
   ]
  },
  {
   "cell_type": "code",
   "execution_count": null,
   "id": "47835251-8af1-4e7d-a7ac-943e6a45c7d1",
   "metadata": {},
   "outputs": [],
   "source": [
    "# Load libraries\n",
    "import matplotlib.pyplot as plt\n",
    "import pandas as pd\n",
    "import arviz as az\n",
    "import numpy as np\n",
    "import pymc as pm"
   ]
  },
  {
   "cell_type": "markdown",
   "id": "9feb59e7-459c-41bf-aa30-858ef0d6b334",
   "metadata": {},
   "source": [
    "## Your First Try\n",
    "\n",
    "Remember the example with synthetic data where we had a website with two variants A and B. Let's assume that we have a Bernoulli likelihood for each variant, and we can model the conversion rate as Beta distribution for each variant. To start with, let's assume that we have identical priors for both variants with $\\alpha = 1$ and $\\beta = 1$:"
   ]
  },
  {
   "cell_type": "code",
   "execution_count": null,
   "id": "55d50c1b",
   "metadata": {},
   "outputs": [],
   "source": [
    "# let's define the variants A and B\n",
    "variants  = ['A', 'B']\n",
    "\n",
    "# let's define parameters for a weak prior for the conversion rates\n",
    "prior_alpha, prior_beta = [1, 1]"
   ]
  },
  {
   "cell_type": "markdown",
   "id": "c7a034d1",
   "metadata": {},
   "source": [
    "Now, replace the `< >` with the values observed from the data:"
   ]
  },
  {
   "cell_type": "code",
   "execution_count": null,
   "id": "67778156",
   "metadata": {},
   "outputs": [],
   "source": [
    "# number of visitors for each variant \n",
    "visitors   = [< >, < >]\n",
    "\n",
    "# number of conversions (sign ups) for each variant\n",
    "conversion = [< >, < >]"
   ]
  },
  {
   "cell_type": "markdown",
   "id": "26af8aa9",
   "metadata": {},
   "source": [
    "The model, defined in the next cell, consist of four main components:\n",
    "- Prior\n",
    "- Likelihood\n",
    "- Uplift (difference between A and B)\n",
    "- Posterior\n",
    "\n",
    "Let's run the code"
   ]
  },
  {
   "cell_type": "code",
   "execution_count": null,
   "id": "5e0c5d3f-276e-4d79-af55-7ec5e3c71be8",
   "metadata": {},
   "outputs": [],
   "source": [
    "with pm.Model() as example_model:\n",
    "\n",
    "    # Priors for unknown model parameters\n",
    "    theta = pm.Beta(\"theta\", \n",
    "                    alpha = prior_alpha, \n",
    "                    beta  = prior_beta, \n",
    "                    shape = 2)\n",
    "    \n",
    "    # Likelihood (sampling distribution) of observations\n",
    "    obs = pm.Binomial(\"y\", \n",
    "                      n        = visitors, \n",
    "                      observed = conversion, \n",
    "                      p        = theta,\n",
    "                      shape    = 2) \n",
    "    \n",
    "    # Difference between variants\n",
    "    relative_uplift = pm.Deterministic(\"uplift\", \n",
    "                                        theta[1] / theta[0] - 1)\n",
    "\n",
    "    # Draw samples from the prior\n",
    "    trace = pm.sample(draws=1000, return_inferencedata=False)"
   ]
  },
  {
   "cell_type": "markdown",
   "id": "62ccf338",
   "metadata": {},
   "source": [
    "Note that in the last line we set `return_inferencedata=False` and you can set to True later on.\n",
    "\n",
    "Run each of the following cells and try to understand their output."
   ]
  },
  {
   "cell_type": "code",
   "execution_count": null,
   "id": "218e876d",
   "metadata": {},
   "outputs": [],
   "source": [
    "# Check the unobserved random variables:\n",
    "example_model.unobserved_RVs    "
   ]
  },
  {
   "cell_type": "code",
   "execution_count": null,
   "id": "0912d69c",
   "metadata": {},
   "outputs": [],
   "source": [
    "# Check the observed (synthetic) random variable:\n",
    "example_model.observed_RVs    "
   ]
  },
  {
   "cell_type": "code",
   "execution_count": null,
   "id": "c11cccac",
   "metadata": {},
   "outputs": [],
   "source": [
    "# Check the deterministic random variable:\n",
    "example_model.deterministics"
   ]
  },
  {
   "cell_type": "code",
   "execution_count": null,
   "id": "725b1563",
   "metadata": {},
   "outputs": [],
   "source": [
    "# check the trace, i.e. posterior distribution of the conversion rates\n",
    "trace"
   ]
  },
  {
   "cell_type": "code",
   "execution_count": null,
   "id": "ed67f490",
   "metadata": {},
   "outputs": [],
   "source": [
    "# find out the shape of the trace\n",
    "trace.theta.shape,  trace.uplift.shape "
   ]
  },
  {
   "cell_type": "markdown",
   "id": "56ad6bb1",
   "metadata": {},
   "source": [
    "<div class=\"alert alert-info\">\n",
    "<h4>Task 1</h4>\n",
    "\n",
    "1. What do you learn from the `shapes` of the converation rates and the uplift?\n",
    "\n",
    "2. Why do you have 4000 samples despite setting `draws=1000`?\n",
    "\n",
    "</div>"
   ]
  },
  {
   "cell_type": "markdown",
   "id": "9c63fff5",
   "metadata": {},
   "source": [
    "write your answer here"
   ]
  },
  {
   "cell_type": "markdown",
   "id": "2e0f4070",
   "metadata": {},
   "source": [
    "Let's continue by exploring the posterior distributions of the conversion rates and the uplift."
   ]
  },
  {
   "cell_type": "code",
   "execution_count": null,
   "id": "8308cb10-312d-4d0d-b756-907b248338c5",
   "metadata": {},
   "outputs": [],
   "source": [
    "# let's create a dataframe with the output of the posterior distribution\n",
    "df = pd.concat([pd.DataFrame(trace['theta']), \n",
    "                pd.DataFrame(trace['uplift'])],\n",
    "                axis=1)\n",
    "\n",
    "df.columns = ['theta_A','theta_B','uplift']\n",
    "df.head(3)"
   ]
  },
  {
   "cell_type": "markdown",
   "id": "feef609e",
   "metadata": {},
   "source": [
    "<div class=\"alert alert-info\">\n",
    "<h4>Task 2</h4>\n",
    "\n",
    "1. What are the average conversion rates according to the posterior distributions? Are they inline with your expectations? \n",
    "\n",
    "2. Are the averages closer to the conversion rates observed from data or the priors? \n",
    "\n",
    "3. What is the average uplift. Discuss what you observe.\n",
    "\n",
    "</div>"
   ]
  },
  {
   "cell_type": "markdown",
   "id": "ffd653b6",
   "metadata": {},
   "source": [
    "write your answer here"
   ]
  },
  {
   "cell_type": "markdown",
   "id": "775bdf68",
   "metadata": {},
   "source": [
    "## PyMC Visualisation Options"
   ]
  },
  {
   "cell_type": "markdown",
   "id": "d1b2b4d9",
   "metadata": {},
   "source": [
    "Let's redo the previous example but this time we set the `return_inferencedata` to True. This will return an `InferenceData` object which we can use to visualise the posterior distributions. The `InferenceData` object contains the posterior samples and many other details about the model."
   ]
  },
  {
   "cell_type": "code",
   "execution_count": null,
   "id": "951e757a",
   "metadata": {},
   "outputs": [],
   "source": [
    "with pm.Model() as example_model:\n",
    "\n",
    "    # Priors for unknown model parameters\n",
    "    theta = pm.Beta(\"theta\", \n",
    "                    alpha = prior_alpha, \n",
    "                    beta  = prior_beta, \n",
    "                    shape = 2)\n",
    "    \n",
    "    # Likelihood (sampling distribution) of observations\n",
    "    obs = pm.Binomial(\"y\", \n",
    "                      n        = visitors, \n",
    "                      observed = conversion, \n",
    "                      p        = theta,\n",
    "                      shape    = 2) \n",
    "    \n",
    "    # Difference between variants\n",
    "    relative_uplift = pm.Deterministic(\"uplift\", \n",
    "                                        theta[1] / theta[0] - 1)\n",
    "\n",
    "    # Draw samples from the prior\n",
    "    trace = pm.sample(draws=1000, return_inferencedata=True)"
   ]
  },
  {
   "cell_type": "code",
   "execution_count": null,
   "id": "03082422",
   "metadata": {},
   "outputs": [],
   "source": [
    "# let's check the trace\n",
    "trace"
   ]
  },
  {
   "cell_type": "markdown",
   "id": "8ad4be3a",
   "metadata": {},
   "source": [
    "<div class=\"alert alert-info\">\n",
    "<h4>Task 3</h4>\n",
    "\n",
    "In the above result, click on the **posterior** tab:\n",
    "\n",
    "1. What do you see under the **Data variables** section?\n",
    "\n",
    "2. Click on the database icon at the right-end of the **theta** row. What do you see?\n",
    "\n",
    "3. What do you see under the **Dimensions** section?\n",
    "\n",
    "</div>"
   ]
  },
  {
   "cell_type": "markdown",
   "id": "8b4ece11",
   "metadata": {},
   "source": [
    "write your answer here"
   ]
  },
  {
   "cell_type": "markdown",
   "id": "b8289303",
   "metadata": {},
   "source": [
    "We can also use the ArviZ library for plotting. The main advantage is that it works pretty well with the output data. Also, it gives the HDI for the relative Uplift distribution."
   ]
  },
  {
   "cell_type": "code",
   "execution_count": null,
   "id": "25bbec43-d6bb-4dd6-81a9-a3423001f795",
   "metadata": {},
   "outputs": [],
   "source": [
    "az.plot_posterior(trace.posterior[\"uplift\"], figsize=(5, 2),textsize=8,\n",
    "                        point_estimate=None,\n",
    "                        ref_val=0,  \n",
    "                        hdi_prob= 0.95, #'hide', \n",
    "                        rope=[-0.02, 0.02]\n",
    "                )\n",
    "plt.title(\"B vs. A Uplift Distribution\", fontsize=8,)\n",
    "plt.axvline(x=0, color='#87ceeb', linestyle='--', linewidth=1);"
   ]
  },
  {
   "cell_type": "markdown",
   "id": "a964d4ae",
   "metadata": {},
   "source": [
    "<div class=\"alert alert-info\">\n",
    "<h4>Task 4</h4>\n",
    "\n",
    "1. What is your interpretation of the 95% HDI?\n",
    "\n",
    "2. What is the probability that the uplift is greater than 0?\n",
    "    \n",
    "3. What do you learn from the ROPE?\n",
    "\n",
    "4. What is your conclusion about the A/B test?\n",
    "\n",
    "</div>"
   ]
  },
  {
   "cell_type": "markdown",
   "id": "03394ed0",
   "metadata": {},
   "source": [
    "write your answer here"
   ]
  },
  {
   "cell_type": "markdown",
   "id": "43e30634",
   "metadata": {},
   "source": [
    "There are many other plots that you can do with ArviZ. You can find more examples [here](https://arviz-devs.github.io/arviz/examples/index.html), but let's try a few of them."
   ]
  },
  {
   "cell_type": "code",
   "execution_count": null,
   "id": "8787f5b8",
   "metadata": {},
   "outputs": [],
   "source": [
    "# what about the theta distributions?\n",
    "az.plot_forest(trace, var_names=[\"theta\"], combined=True, kind=\"ridgeplot\", ridgeplot_alpha=0.1);"
   ]
  },
  {
   "cell_type": "markdown",
   "id": "9ea6b2a9",
   "metadata": {},
   "source": [
    "With `plot_trace` we get a full picture."
   ]
  },
  {
   "cell_type": "code",
   "execution_count": null,
   "id": "f50504d9",
   "metadata": {},
   "outputs": [],
   "source": [
    "az.plot_trace(trace, compact=True, combined=True)\n",
    "plt.tight_layout();"
   ]
  },
  {
   "cell_type": "markdown",
   "id": "bbd1d21d",
   "metadata": {},
   "source": [
    "Yet another view with `plot_pair` and `plot_violin`:"
   ]
  },
  {
   "cell_type": "code",
   "execution_count": null,
   "id": "1628d075",
   "metadata": {},
   "outputs": [],
   "source": [
    "az.plot_pair(trace, var_names=[\"theta\"], kind=\"kde\", marginals=True, figsize=(5, 5));"
   ]
  },
  {
   "cell_type": "code",
   "execution_count": null,
   "id": "7c7b39cd",
   "metadata": {},
   "outputs": [],
   "source": [
    "az.plot_violin(trace, var_names=[\"theta\"], figsize=(7, 4));"
   ]
  },
  {
   "cell_type": "markdown",
   "id": "75660bbf",
   "metadata": {},
   "source": [
    "<div class=\"alert alert-info\">\n",
    "<h4>Task 5</h4>\n",
    "\n",
    "\n",
    "Try an informative prior for $\\theta_A$ and $\\theta_B$ especially one that is skewed, and re-do what you have done so far. How does that affect your conclusion about the difference between the two variants?\n",
    "\n",
    "</div>"
   ]
  },
  {
   "cell_type": "markdown",
   "id": "a074386d",
   "metadata": {},
   "source": [
    "write your answer here"
   ]
  }
 ],
 "metadata": {
  "kernelspec": {
   "display_name": "Python [conda env:workshop] *",
   "language": "python",
   "name": "conda-env-workshop-py"
  },
  "language_info": {
   "codemirror_mode": {
    "name": "ipython",
    "version": 3
   },
   "file_extension": ".py",
   "mimetype": "text/x-python",
   "name": "python",
   "nbconvert_exporter": "python",
   "pygments_lexer": "ipython3",
   "version": "3.10.12"
  }
 },
 "nbformat": 4,
 "nbformat_minor": 5
}

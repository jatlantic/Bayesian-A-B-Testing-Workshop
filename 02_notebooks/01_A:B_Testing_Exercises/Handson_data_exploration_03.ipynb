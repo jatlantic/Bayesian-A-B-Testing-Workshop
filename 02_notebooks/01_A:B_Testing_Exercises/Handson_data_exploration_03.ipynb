{
 "cells": [
  {
   "cell_type": "markdown",
   "id": "36b8ce98-ed19-4935-999c-1a08ee9ceffa",
   "metadata": {
    "tags": []
   },
   "source": [
    "# A/B Testing: Data Exploration\n",
    "\n",
    "<div class=\"alert alert-warning\">\n",
    "<h3>Goal of this session:</h3>\n",
    "\n",
    "In this hands-on session, you will work with a synthetic dataset that can be used to perform A/B testing. For now, your goal is to only explore the data and identify its key features. The insight gained from this session will help you understand:\n",
    "\n",
    "- The structure of data that is used to perform A/B testing\n",
    "- The key features of the data that can be used to perform bayesian A/B testing\n",
    "\n",
    "</div>"
   ]
  },
  {
   "cell_type": "markdown",
   "id": "21005708",
   "metadata": {},
   "source": [
    "The data is collected in a company that provides an online service. The company wants to increase the number of users that sign up for the service. To achieve this goal, the company wants to test a new version of the website. They randomly assign users into two groups: the control group `A` and the treatment group `B`. The users in the control group were shown the old version of the website, while the users in the treatment group were shown the new version of the website. The company then tracked whether the users signed up for the service or not. They also tracked how much money the users spent after signing up for the service. \n",
    "\n",
    "The path where you can find the dataset in the Github repo of the workshop is: `Day1-04/data.csv`. The data contains the following columns:\n",
    "\n",
    "- `user_id`: unique identifier for each user\n",
    "- `version`: whether the user was in the control group `A` or the treatment group `B`\n",
    "- `sign_up`: whether the user signed up for the service or not\n",
    "- `payment`: the amount of money the user spent after signing up"
   ]
  },
  {
   "cell_type": "markdown",
   "id": "2b8b7d60",
   "metadata": {},
   "source": [
    "<div class=\"alert alert-info\">\n",
    "<h4>Task 1</h4>\n",
    "\n",
    "1. Load the data and check a few rows of it.\n",
    "\n",
    "2. How many rows and columns exist in the data? \n",
    "\n",
    "3. Find out how many unique users exist in the data. Show the duplicated rows if there is any.\n",
    "\n",
    "4. Find and drop rows with missing information.\n",
    "\n",
    "<br>\n",
    "</div>"
   ]
  },
  {
   "cell_type": "code",
   "execution_count": null,
   "id": "02e00262",
   "metadata": {},
   "outputs": [],
   "source": [
    "import pandas as pd"
   ]
  },
  {
   "cell_type": "code",
   "execution_count": 2,
   "id": "ecd5579e",
   "metadata": {},
   "outputs": [],
   "source": [
    "# write your code here\n",
    "df = pd.read_csv('../02_data/data.csv')"
   ]
  },
  {
   "cell_type": "markdown",
   "id": "dbcae76e",
   "metadata": {},
   "source": [
    "<div class=\"alert alert-info\">\n",
    "<h4>Task 2</h4>\n",
    "\n",
    "1. Find out the number of users in each group.\n",
    "\n",
    "2. The users who didn't sign up should have spent 0. Check if this is the case.\n",
    "\n",
    "3. Find out how many users have signed up in each group.\n",
    "\n",
    "<br>\n",
    "</div>"
   ]
  },
  {
   "cell_type": "code",
   "execution_count": 10,
   "id": "0f235128",
   "metadata": {},
   "outputs": [],
   "source": [
    "# write your code here"
   ]
  },
  {
   "cell_type": "markdown",
   "id": "d028f6c2",
   "metadata": {},
   "source": [
    "<div class=\"alert alert-info\">\n",
    "<h4>Task 3</h4>\n",
    "\n",
    "1. Compare the payment amount between the two groups. In particular, what are the total payment and average payments for each group?\n",
    "\n",
    "2. Plot the distribution of payment amount for each group.\n",
    "\n",
    "<br>\n",
    "</div>"
   ]
  },
  {
   "cell_type": "code",
   "execution_count": null,
   "id": "2980e669",
   "metadata": {},
   "outputs": [],
   "source": [
    "# write your code here"
   ]
  }
 ],
 "metadata": {
  "kernelspec": {
   "display_name": "Python 3 (ipykernel)",
   "language": "python",
   "name": "python3"
  },
  "language_info": {
   "codemirror_mode": {
    "name": "ipython",
    "version": 3
   },
   "file_extension": ".py",
   "mimetype": "text/x-python",
   "name": "python",
   "nbconvert_exporter": "python",
   "pygments_lexer": "ipython3",
   "version": "3.10.12"
  },
  "toc-autonumbering": false
 },
 "nbformat": 4,
 "nbformat_minor": 5
}

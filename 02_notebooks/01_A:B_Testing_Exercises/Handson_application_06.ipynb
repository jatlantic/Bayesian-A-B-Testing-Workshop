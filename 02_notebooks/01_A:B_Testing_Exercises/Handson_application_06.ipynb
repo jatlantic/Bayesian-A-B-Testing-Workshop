{
 "cells": [
  {
   "cell_type": "markdown",
   "id": "ccceafa0-9456-4bde-8cf9-f4b1b92f2f3a",
   "metadata": {},
   "source": [
    "# A/B Testing in PyMC\n",
    "\n",
    "<div class=\"alert alert-warning\">\n",
    "<h3>Goal of this session:</h3>\n",
    "\n",
    "In this hands-on session, you will develop a Bayesian A/B test from scratch. The idea is to practice the concepts learned in the previous sessions by implementing them in Python. \n",
    "\n",
    "</div>\n",
    "\n",
    "\n",
    "### Description of data set\n",
    "\n",
    "TrendHaven is an e-commerce company specializing in men's and women's fashion and lifestyle merchandise. You have access to one of their marketing campaigns data, which was run for two weeks. The campaign was targeted to a random sample of their existing customers. The goal of the campaign was to increase sale by showing a banner in the main page. The banner featured a merchandise and was shown to the customers when they visited the website. \n",
    "\n",
    "You can find the data in `Day2-pm/data.csv` in the workshop package. The data set has two types of information: the *historical customer attributes* (columns A to I), and the *marketing campaign information* (columns J to L). Here is the summary about the data set:\n",
    "\n",
    "\n",
    "**Marketing campaign information**:\n",
    "\n",
    "Visitors of the TrendHaven website are randomly assigned to two groups: control (A) and treatment (B). The control group sees the website as usual, without any banner. The treatment group sees a banner with a merchandise. The merchandise can be either a men merchandise or a women merchandise. A fraction of the visitors in both groups clicked on a product while browsing the website, and a fraction of them eventually bought a product. \n",
    "\n",
    "\n",
    "Variable | Description\n",
    "--- | ---\n",
    "type | type of treatment in the banner: men merchandise, women merchandise, or no banner shown\n",
    "conversion | 1/0 indicator, 1 : customer clicked on a product, 0: customer did not click on a product\n",
    "spend | actual dollar value spent \n",
    "\n",
    "**Historical customer attributes**:\n",
    "\n",
    "All of the visitors in the campaign are existing customers of TrendHaven. Therefore, the data set contains some of the historical attributes of the customers. This information is collected before the campaign:\n",
    "\n",
    "Variable | Description\n",
    "--- | ---\n",
    "Customer_id | Customer ID\n",
    "Recency | Months since last purchase\n",
    "History_Segment | Categorization of dollars spent in the past year\n",
    "History | Actual dollar value spent in the past year    \n",
    "Mens | 1/0 indicator, 1 = customer purchased Mens merchandise in the past year\n",
    "Womens | 1/0 indicator, 1 = customer purchased Womens merchandise in the past year\n",
    "Zip_Code | Classifies zip code as Urban, Suburban, or Rural\n",
    "Newbie | 1/0 indicator, 1 = New customer in the past twelve months\n",
    "Channel | Describes the channels the customer purchased from in the past year\n",
    "\n",
    "\n"
   ]
  },
  {
   "cell_type": "markdown",
   "id": "4d6445ed",
   "metadata": {},
   "source": [
    "Note: the original version of this dataset comes from Kevin Hillstrom [blog](https://blog.minethatdata.com/2008/03/minethatdata-e-mail-analytics-and-data.html). We have slightly modified the data set and its description for the purpose of this workshop."
   ]
  }
 ],
 "metadata": {
  "kernelspec": {
   "display_name": "workshop",
   "language": "python",
   "name": "python3"
  },
  "language_info": {
   "codemirror_mode": {
    "name": "ipython",
    "version": 3
   },
   "file_extension": ".py",
   "mimetype": "text/x-python",
   "name": "python",
   "nbconvert_exporter": "python",
   "pygments_lexer": "ipython3",
   "version": "3.10.12"
  }
 },
 "nbformat": 4,
 "nbformat_minor": 5
}

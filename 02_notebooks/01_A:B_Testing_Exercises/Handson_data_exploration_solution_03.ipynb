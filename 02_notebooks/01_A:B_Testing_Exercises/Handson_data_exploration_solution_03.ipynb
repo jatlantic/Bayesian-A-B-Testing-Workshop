{
 "cells": [
  {
   "cell_type": "markdown",
   "id": "36b8ce98-ed19-4935-999c-1a08ee9ceffa",
   "metadata": {
    "tags": []
   },
   "source": [
    "# A/B Testing: Data Exploration\n",
    "\n",
    "<div class=\"alert alert-warning\">\n",
    "<h3>Goal of this session:</h3>\n",
    "\n",
    "In this hands-on session, you will work with a synthetic dataset that can be used to perform A/B testing. For now, your goal is to only explore the data and identify its key features. The insight gained from this session will help you understand:\n",
    "\n",
    "- The structure of data that is used to perform A/B testing\n",
    "- The key features of the data that can be used to perform bayesian A/B testing\n",
    "\n",
    "</div>"
   ]
  },
  {
   "cell_type": "markdown",
   "id": "21005708",
   "metadata": {},
   "source": [
    "The data is collected in a company that provides an online service. The company wants to increase the number of users that sign up for the service. To achieve this goal, the company wants to test a new version of the website. The company randomly split the users into two groups: the control group `A` and the treatment group `B`. The users in the control group were shown the old version of the website, while the users in the treatment group were shown the new version of the website. The company then tracked whether the users signed up for the service or not. The company also tracked how much money the users spent after signing up for the service. The company wants to know whether the new version of the website is better than the old version of the website. \n",
    "\n",
    "The path where you can find the dataset in the Github repo of the workshop is: `Day1-04/data.csv`. The data contains the following columns:\n",
    "\n",
    "- `user_id`: unique identifier for each user\n",
    "- `version`: whether the user was in the control group `A` or the treatment group `B`\n",
    "- `sign_up`: whether the user signed up for the service or not\n",
    "- `payment`: the amount of money the user spent after signing up"
   ]
  },
  {
   "cell_type": "markdown",
   "id": "91e12b3d",
   "metadata": {},
   "source": [
    "Let's start by importing the necessary libraries"
   ]
  },
  {
   "cell_type": "code",
   "execution_count": 1,
   "id": "dec251e5-abd0-4bc7-8731-4826323e8266",
   "metadata": {},
   "outputs": [],
   "source": [
    "import numpy as np\n",
    "import pandas as pd\n",
    "import seaborn as sns\n",
    "import matplotlib.pyplot as plt"
   ]
  },
  {
   "cell_type": "markdown",
   "id": "2b8b7d60",
   "metadata": {},
   "source": [
    "<div class=\"alert alert-info\">\n",
    "<h4>Task 1</h4>\n",
    "\n",
    "1. Load the data and check a few rows of it.\n",
    "\n",
    "2. How many rows and columns exist in the data? \n",
    "\n",
    "3. Find out how many unique users exist in the data. Show the duplicated rows if there is any.\n",
    "\n",
    "4. Find and drop rows with missing information.\n",
    "\n",
    "<br>\n",
    "</div>"
   ]
  },
  {
   "cell_type": "code",
   "execution_count": 2,
   "id": "898a01d8-0345-4b44-8263-188a7fe821fa",
   "metadata": {},
   "outputs": [
    {
     "data": {
      "text/html": [
       "<div>\n",
       "<style scoped>\n",
       "    .dataframe tbody tr th:only-of-type {\n",
       "        vertical-align: middle;\n",
       "    }\n",
       "\n",
       "    .dataframe tbody tr th {\n",
       "        vertical-align: top;\n",
       "    }\n",
       "\n",
       "    .dataframe thead th {\n",
       "        text-align: right;\n",
       "    }\n",
       "</style>\n",
       "<table border=\"1\" class=\"dataframe\">\n",
       "  <thead>\n",
       "    <tr style=\"text-align: right;\">\n",
       "      <th></th>\n",
       "      <th>user_id</th>\n",
       "      <th>version</th>\n",
       "      <th>sign_up</th>\n",
       "      <th>payment</th>\n",
       "    </tr>\n",
       "  </thead>\n",
       "  <tbody>\n",
       "    <tr>\n",
       "      <th>0</th>\n",
       "      <td>1</td>\n",
       "      <td>A</td>\n",
       "      <td>1</td>\n",
       "      <td>0</td>\n",
       "    </tr>\n",
       "    <tr>\n",
       "      <th>1</th>\n",
       "      <td>2</td>\n",
       "      <td>B</td>\n",
       "      <td>1</td>\n",
       "      <td>0</td>\n",
       "    </tr>\n",
       "    <tr>\n",
       "      <th>2</th>\n",
       "      <td>3</td>\n",
       "      <td>A</td>\n",
       "      <td>0</td>\n",
       "      <td>0</td>\n",
       "    </tr>\n",
       "    <tr>\n",
       "      <th>3</th>\n",
       "      <td>4</td>\n",
       "      <td>A</td>\n",
       "      <td>1</td>\n",
       "      <td>180</td>\n",
       "    </tr>\n",
       "    <tr>\n",
       "      <th>4</th>\n",
       "      <td>5</td>\n",
       "      <td>B</td>\n",
       "      <td>0</td>\n",
       "      <td>0</td>\n",
       "    </tr>\n",
       "  </tbody>\n",
       "</table>\n",
       "</div>"
      ],
      "text/plain": [
       "   user_id version  sign_up  payment\n",
       "0        1       A        1        0\n",
       "1        2       B        1        0\n",
       "2        3       A        0        0\n",
       "3        4       A        1      180\n",
       "4        5       B        0        0"
      ]
     },
     "execution_count": 2,
     "metadata": {},
     "output_type": "execute_result"
    }
   ],
   "source": [
    "# load the data\n",
    "df = pd.read_csv('../02_data/data.csv')\n",
    "df.head()"
   ]
  },
  {
   "cell_type": "code",
   "execution_count": 3,
   "id": "30aeff25",
   "metadata": {},
   "outputs": [
    {
     "data": {
      "text/plain": [
       "(2001, 4)"
      ]
     },
     "execution_count": 3,
     "metadata": {},
     "output_type": "execute_result"
    }
   ],
   "source": [
    "# check how many rows and columns are there\n",
    "df.shape"
   ]
  },
  {
   "cell_type": "code",
   "execution_count": 4,
   "id": "021d86cf",
   "metadata": {},
   "outputs": [
    {
     "data": {
      "text/html": [
       "<div>\n",
       "<style scoped>\n",
       "    .dataframe tbody tr th:only-of-type {\n",
       "        vertical-align: middle;\n",
       "    }\n",
       "\n",
       "    .dataframe tbody tr th {\n",
       "        vertical-align: top;\n",
       "    }\n",
       "\n",
       "    .dataframe thead th {\n",
       "        text-align: right;\n",
       "    }\n",
       "</style>\n",
       "<table border=\"1\" class=\"dataframe\">\n",
       "  <thead>\n",
       "    <tr style=\"text-align: right;\">\n",
       "      <th></th>\n",
       "      <th>user_id</th>\n",
       "      <th>version</th>\n",
       "      <th>sign_up</th>\n",
       "      <th>payment</th>\n",
       "    </tr>\n",
       "  </thead>\n",
       "  <tbody>\n",
       "    <tr>\n",
       "      <th>24</th>\n",
       "      <td>25</td>\n",
       "      <td>A</td>\n",
       "      <td>1</td>\n",
       "      <td>60</td>\n",
       "    </tr>\n",
       "    <tr>\n",
       "      <th>25</th>\n",
       "      <td>25</td>\n",
       "      <td>A</td>\n",
       "      <td>0</td>\n",
       "      <td>0</td>\n",
       "    </tr>\n",
       "  </tbody>\n",
       "</table>\n",
       "</div>"
      ],
      "text/plain": [
       "    user_id version  sign_up  payment\n",
       "24       25       A        1       60\n",
       "25       25       A        0        0"
      ]
     },
     "execution_count": 4,
     "metadata": {},
     "output_type": "execute_result"
    }
   ],
   "source": [
    "# check for duplicates\n",
    "df[df.duplicated(\"user_id\", keep=False) == True]"
   ]
  },
  {
   "cell_type": "code",
   "execution_count": 5,
   "id": "b80dc9d3",
   "metadata": {},
   "outputs": [],
   "source": [
    "# drop the second duplicate\n",
    "df.drop_duplicates(subset = \"user_id\", inplace=True)"
   ]
  },
  {
   "cell_type": "code",
   "execution_count": 6,
   "id": "d59cb6a1",
   "metadata": {},
   "outputs": [
    {
     "data": {
      "text/html": [
       "<div>\n",
       "<style scoped>\n",
       "    .dataframe tbody tr th:only-of-type {\n",
       "        vertical-align: middle;\n",
       "    }\n",
       "\n",
       "    .dataframe tbody tr th {\n",
       "        vertical-align: top;\n",
       "    }\n",
       "\n",
       "    .dataframe thead th {\n",
       "        text-align: right;\n",
       "    }\n",
       "</style>\n",
       "<table border=\"1\" class=\"dataframe\">\n",
       "  <thead>\n",
       "    <tr style=\"text-align: right;\">\n",
       "      <th></th>\n",
       "      <th>user_id</th>\n",
       "      <th>version</th>\n",
       "      <th>sign_up</th>\n",
       "      <th>payment</th>\n",
       "    </tr>\n",
       "  </thead>\n",
       "  <tbody>\n",
       "  </tbody>\n",
       "</table>\n",
       "</div>"
      ],
      "text/plain": [
       "Empty DataFrame\n",
       "Columns: [user_id, version, sign_up, payment]\n",
       "Index: []"
      ]
     },
     "execution_count": 6,
     "metadata": {},
     "output_type": "execute_result"
    }
   ],
   "source": [
    "# check again \n",
    "df[df.duplicated(\"user_id\", keep=False) == True]"
   ]
  },
  {
   "cell_type": "code",
   "execution_count": 7,
   "id": "e51b3c62",
   "metadata": {},
   "outputs": [
    {
     "data": {
      "text/plain": [
       "(2000, 4)"
      ]
     },
     "execution_count": 7,
     "metadata": {},
     "output_type": "execute_result"
    }
   ],
   "source": [
    "# how many rows are left\n",
    "df.shape"
   ]
  },
  {
   "cell_type": "code",
   "execution_count": 8,
   "id": "0ef4ea40",
   "metadata": {},
   "outputs": [
    {
     "data": {
      "text/html": [
       "<div>\n",
       "<style scoped>\n",
       "    .dataframe tbody tr th:only-of-type {\n",
       "        vertical-align: middle;\n",
       "    }\n",
       "\n",
       "    .dataframe tbody tr th {\n",
       "        vertical-align: top;\n",
       "    }\n",
       "\n",
       "    .dataframe thead th {\n",
       "        text-align: right;\n",
       "    }\n",
       "</style>\n",
       "<table border=\"1\" class=\"dataframe\">\n",
       "  <thead>\n",
       "    <tr style=\"text-align: right;\">\n",
       "      <th></th>\n",
       "      <th>user_id</th>\n",
       "      <th>version</th>\n",
       "      <th>sign_up</th>\n",
       "      <th>payment</th>\n",
       "    </tr>\n",
       "  </thead>\n",
       "  <tbody>\n",
       "  </tbody>\n",
       "</table>\n",
       "</div>"
      ],
      "text/plain": [
       "Empty DataFrame\n",
       "Columns: [user_id, version, sign_up, payment]\n",
       "Index: []"
      ]
     },
     "execution_count": 8,
     "metadata": {},
     "output_type": "execute_result"
    }
   ],
   "source": [
    "# check missing values\n",
    "df[df.isna().any(axis=1)]"
   ]
  },
  {
   "cell_type": "markdown",
   "id": "dbcae76e",
   "metadata": {},
   "source": [
    "<div class=\"alert alert-info\">\n",
    "<h4>Task 2</h4>\n",
    "\n",
    "1. Find out the number of users in each group.\n",
    "\n",
    "2. The users who didn't sign up should have spent 0. Check if this is the case.\n",
    "\n",
    "3. Find out how many users have signed up in each group.\n",
    "\n",
    "<br>\n",
    "</div>"
   ]
  },
  {
   "cell_type": "code",
   "execution_count": 9,
   "id": "6b139304",
   "metadata": {},
   "outputs": [
    {
     "data": {
      "text/plain": [
       "version\n",
       "A    1000\n",
       "B    1000\n",
       "Name: user_id, dtype: int64"
      ]
     },
     "execution_count": 9,
     "metadata": {},
     "output_type": "execute_result"
    }
   ],
   "source": [
    "# let's find the number of users in each group\n",
    "df.groupby(\"version\")['user_id'].count()"
   ]
  },
  {
   "cell_type": "markdown",
   "id": "f46b927f-8ae2-4717-a252-765618459181",
   "metadata": {},
   "source": [
    "there are 1000 users in each group"
   ]
  },
  {
   "cell_type": "code",
   "execution_count": 10,
   "id": "634b6a20",
   "metadata": {},
   "outputs": [
    {
     "data": {
      "text/plain": [
       "0"
      ]
     },
     "execution_count": 10,
     "metadata": {},
     "output_type": "execute_result"
    }
   ],
   "source": [
    "# users who did not sign up paid nothing\n",
    "df.loc[df.sign_up == 0, 'payment'].sum()"
   ]
  },
  {
   "cell_type": "markdown",
   "id": "c1f7bb88-8528-443c-bdc2-5eaf058ee60a",
   "metadata": {},
   "source": [
    "That's the case. No payment is recored for visitors who didn't sign up"
   ]
  },
  {
   "cell_type": "code",
   "execution_count": 11,
   "id": "2fb9f155",
   "metadata": {},
   "outputs": [
    {
     "data": {
      "text/plain": [
       "version  sign_up\n",
       "A        0          498\n",
       "         1          502\n",
       "B        0          490\n",
       "         1          510\n",
       "Name: user_id, dtype: int64"
      ]
     },
     "execution_count": 11,
     "metadata": {},
     "output_type": "execute_result"
    }
   ],
   "source": [
    "# let's find the number of signed up users in each group \n",
    "df.groupby([\"version\", \"sign_up\"])['user_id'].count()"
   ]
  },
  {
   "cell_type": "markdown",
   "id": "424ce912-f787-476f-bfe1-003c8d99f73b",
   "metadata": {},
   "source": [
    "there are 502 and 510 visitors signed up in A and B, respectively."
   ]
  },
  {
   "cell_type": "code",
   "execution_count": 12,
   "id": "c253033c-807c-4953-8c71-7db0f81b8664",
   "metadata": {},
   "outputs": [
    {
     "data": {
      "text/html": [
       "<div>\n",
       "<style scoped>\n",
       "    .dataframe tbody tr th:only-of-type {\n",
       "        vertical-align: middle;\n",
       "    }\n",
       "\n",
       "    .dataframe tbody tr th {\n",
       "        vertical-align: top;\n",
       "    }\n",
       "\n",
       "    .dataframe thead th {\n",
       "        text-align: right;\n",
       "    }\n",
       "</style>\n",
       "<table border=\"1\" class=\"dataframe\">\n",
       "  <thead>\n",
       "    <tr style=\"text-align: right;\">\n",
       "      <th>sign_up</th>\n",
       "      <th>0</th>\n",
       "      <th>1</th>\n",
       "    </tr>\n",
       "    <tr>\n",
       "      <th>version</th>\n",
       "      <th></th>\n",
       "      <th></th>\n",
       "    </tr>\n",
       "  </thead>\n",
       "  <tbody>\n",
       "    <tr>\n",
       "      <th>A</th>\n",
       "      <td>0.498</td>\n",
       "      <td>0.502</td>\n",
       "    </tr>\n",
       "    <tr>\n",
       "      <th>B</th>\n",
       "      <td>0.490</td>\n",
       "      <td>0.510</td>\n",
       "    </tr>\n",
       "  </tbody>\n",
       "</table>\n",
       "</div>"
      ],
      "text/plain": [
       "sign_up      0      1\n",
       "version              \n",
       "A        0.498  0.502\n",
       "B        0.490  0.510"
      ]
     },
     "execution_count": 12,
     "metadata": {},
     "output_type": "execute_result"
    }
   ],
   "source": [
    "pd.crosstab(df.version, df.sign_up, normalize='index')"
   ]
  },
  {
   "cell_type": "markdown",
   "id": "60f372c9-09d5-4873-8ae0-6ed5bc628d22",
   "metadata": {},
   "source": [
    "this is equivalent to 50.2% and 51% for A and B respectively."
   ]
  },
  {
   "cell_type": "markdown",
   "id": "d028f6c2",
   "metadata": {},
   "source": [
    "<div class=\"alert alert-info\">\n",
    "<h4>Task 3</h4>\n",
    "\n",
    "1. Compare the payment amount between the two groups. In particular, what are the total payment and average payments for each group?\n",
    "\n",
    "2. Plot the distribution of payment amount for each group.\n",
    "\n",
    "<br>\n",
    "</div>"
   ]
  },
  {
   "cell_type": "code",
   "execution_count": 13,
   "id": "900aa7bd",
   "metadata": {},
   "outputs": [
    {
     "data": {
      "text/plain": [
       "version\n",
       "A    30456\n",
       "B    28056\n",
       "Name: payment, dtype: int64"
      ]
     },
     "execution_count": 13,
     "metadata": {},
     "output_type": "execute_result"
    }
   ],
   "source": [
    "# sum of payment by version\n",
    "df.groupby(\"version\")['payment'].sum()"
   ]
  },
  {
   "cell_type": "code",
   "execution_count": 14,
   "id": "220b8484",
   "metadata": {},
   "outputs": [
    {
     "data": {
      "text/html": [
       "<div>\n",
       "<style scoped>\n",
       "    .dataframe tbody tr th:only-of-type {\n",
       "        vertical-align: middle;\n",
       "    }\n",
       "\n",
       "    .dataframe tbody tr th {\n",
       "        vertical-align: top;\n",
       "    }\n",
       "\n",
       "    .dataframe thead th {\n",
       "        text-align: right;\n",
       "    }\n",
       "</style>\n",
       "<table border=\"1\" class=\"dataframe\">\n",
       "  <thead>\n",
       "    <tr style=\"text-align: right;\">\n",
       "      <th></th>\n",
       "      <th>count</th>\n",
       "      <th>mean</th>\n",
       "      <th>std</th>\n",
       "      <th>min</th>\n",
       "      <th>25%</th>\n",
       "      <th>50%</th>\n",
       "      <th>75%</th>\n",
       "      <th>max</th>\n",
       "    </tr>\n",
       "    <tr>\n",
       "      <th>version</th>\n",
       "      <th></th>\n",
       "      <th></th>\n",
       "      <th></th>\n",
       "      <th></th>\n",
       "      <th></th>\n",
       "      <th></th>\n",
       "      <th></th>\n",
       "      <th></th>\n",
       "    </tr>\n",
       "  </thead>\n",
       "  <tbody>\n",
       "    <tr>\n",
       "      <th>A</th>\n",
       "      <td>1000.0</td>\n",
       "      <td>30.456</td>\n",
       "      <td>68.125540</td>\n",
       "      <td>0.0</td>\n",
       "      <td>0.0</td>\n",
       "      <td>0.0</td>\n",
       "      <td>0.0</td>\n",
       "      <td>306.0</td>\n",
       "    </tr>\n",
       "    <tr>\n",
       "      <th>B</th>\n",
       "      <td>1000.0</td>\n",
       "      <td>28.056</td>\n",
       "      <td>66.709272</td>\n",
       "      <td>0.0</td>\n",
       "      <td>0.0</td>\n",
       "      <td>0.0</td>\n",
       "      <td>0.0</td>\n",
       "      <td>306.0</td>\n",
       "    </tr>\n",
       "  </tbody>\n",
       "</table>\n",
       "</div>"
      ],
      "text/plain": [
       "          count    mean        std  min  25%  50%  75%    max\n",
       "version                                                      \n",
       "A        1000.0  30.456  68.125540  0.0  0.0  0.0  0.0  306.0\n",
       "B        1000.0  28.056  66.709272  0.0  0.0  0.0  0.0  306.0"
      ]
     },
     "execution_count": 14,
     "metadata": {},
     "output_type": "execute_result"
    }
   ],
   "source": [
    "# average payment by version\n",
    "df.groupby(\"version\")['payment'].describe()"
   ]
  },
  {
   "cell_type": "code",
   "execution_count": 15,
   "id": "29418a82-89fd-4dc9-85f8-d042a57bef20",
   "metadata": {},
   "outputs": [
    {
     "data": {
      "text/html": [
       "<div>\n",
       "<style scoped>\n",
       "    .dataframe tbody tr th:only-of-type {\n",
       "        vertical-align: middle;\n",
       "    }\n",
       "\n",
       "    .dataframe tbody tr th {\n",
       "        vertical-align: top;\n",
       "    }\n",
       "\n",
       "    .dataframe thead th {\n",
       "        text-align: right;\n",
       "    }\n",
       "</style>\n",
       "<table border=\"1\" class=\"dataframe\">\n",
       "  <thead>\n",
       "    <tr style=\"text-align: right;\">\n",
       "      <th></th>\n",
       "      <th>count</th>\n",
       "      <th>mean</th>\n",
       "      <th>std</th>\n",
       "      <th>min</th>\n",
       "      <th>25%</th>\n",
       "      <th>50%</th>\n",
       "      <th>75%</th>\n",
       "      <th>max</th>\n",
       "    </tr>\n",
       "    <tr>\n",
       "      <th>version</th>\n",
       "      <th></th>\n",
       "      <th></th>\n",
       "      <th></th>\n",
       "      <th></th>\n",
       "      <th></th>\n",
       "      <th></th>\n",
       "      <th></th>\n",
       "      <th></th>\n",
       "    </tr>\n",
       "  </thead>\n",
       "  <tbody>\n",
       "    <tr>\n",
       "      <th>A</th>\n",
       "      <td>502.0</td>\n",
       "      <td>60.669323</td>\n",
       "      <td>86.126110</td>\n",
       "      <td>0.0</td>\n",
       "      <td>0.0</td>\n",
       "      <td>0.0</td>\n",
       "      <td>120.0</td>\n",
       "      <td>306.0</td>\n",
       "    </tr>\n",
       "    <tr>\n",
       "      <th>B</th>\n",
       "      <td>510.0</td>\n",
       "      <td>55.011765</td>\n",
       "      <td>85.137193</td>\n",
       "      <td>0.0</td>\n",
       "      <td>0.0</td>\n",
       "      <td>0.0</td>\n",
       "      <td>90.0</td>\n",
       "      <td>306.0</td>\n",
       "    </tr>\n",
       "  </tbody>\n",
       "</table>\n",
       "</div>"
      ],
      "text/plain": [
       "         count       mean        std  min  25%  50%    75%    max\n",
       "version                                                          \n",
       "A        502.0  60.669323  86.126110  0.0  0.0  0.0  120.0  306.0\n",
       "B        510.0  55.011765  85.137193  0.0  0.0  0.0   90.0  306.0"
      ]
     },
     "execution_count": 15,
     "metadata": {},
     "output_type": "execute_result"
    }
   ],
   "source": [
    "# average payment by version for those who signed up\n",
    "df.loc[df['sign_up']==1,:].groupby(\"version\")['payment'].describe()"
   ]
  },
  {
   "cell_type": "code",
   "execution_count": 16,
   "id": "6476b4e5-1d95-4176-a0ad-a55d00dd05b1",
   "metadata": {},
   "outputs": [
    {
     "data": {
      "image/png": "[encoded data removed]",
      "text/plain": [
       "<Figure size 640x480 with 1 Axes>"
      ]
     },
     "metadata": {},
     "output_type": "display_data"
    }
   ],
   "source": [
    "# distribution of payment amount for each group\n",
    "sns.histplot(data=df.loc[df['sign_up']==1,:], x=\"payment\", hue=\"version\", );"
   ]
  },
  {
   "cell_type": "code",
   "execution_count": 17,
   "id": "7778b66e-44a0-48e4-a3ee-af16618c99c0",
   "metadata": {},
   "outputs": [
    {
     "data": {
      "text/plain": [
       "version  payment\n",
       "A        0          0.535857\n",
       "         90         0.077689\n",
       "         150        0.075697\n",
       "         120        0.069721\n",
       "         30         0.063745\n",
       "         60         0.063745\n",
       "         306        0.061753\n",
       "         180        0.051793\n",
       "B        0          0.580392\n",
       "         90         0.084314\n",
       "         30         0.060784\n",
       "         306        0.060784\n",
       "         60         0.054902\n",
       "         120        0.054902\n",
       "         150        0.052941\n",
       "         180        0.050980\n",
       "Name: proportion, dtype: float64"
      ]
     },
     "execution_count": 17,
     "metadata": {},
     "output_type": "execute_result"
    }
   ],
   "source": [
    "df.loc[df['sign_up']==1,:].groupby(\"version\")['payment'].value_counts(normalize=True)"
   ]
  },
  {
   "cell_type": "markdown",
   "id": "cfc6171d-a2c3-4c3c-a842-7cd4674ed23e",
   "metadata": {},
   "source": [
    "In both versions, atleast half of signed up users chose to pay nothing. The other half are uniformly (~6%) taking other payment options."
   ]
  }
 ],
 "metadata": {
  "kernelspec": {
   "display_name": "base",
   "language": "python",
   "name": "python3"
  },
  "language_info": {
   "codemirror_mode": {
    "name": "ipython",
    "version": 3
   },
   "file_extension": ".py",
   "mimetype": "text/x-python",
   "name": "python",
   "nbconvert_exporter": "python",
   "pygments_lexer": "ipython3",
   "version": "3.10.10"
  },
  "toc-autonumbering": false
 },
 "nbformat": 4,
 "nbformat_minor": 5
}

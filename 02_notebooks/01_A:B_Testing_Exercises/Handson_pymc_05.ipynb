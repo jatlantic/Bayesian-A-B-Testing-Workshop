{
 "cells": [
  {
   "cell_type": "markdown",
   "id": "35af88a3",
   "metadata": {},
   "source": [
    "# A/B Testing in PyMC: part 2\n",
    "\n",
    "<div class=\"alert alert-warning\">\n",
    "<h2>Goal of this session:</h2>\n",
    "\n",
    "In this hands-on session, you will continue working with the synthetic dataset from yesterday. Your goal is to be able to perform Bayesian inference using the PyMC library. The insight gained from this session will help you understand:\n",
    "\n",
    "- How to perform Bayesian A/B testing on data with Value conversions\n",
    "- How to interpret the results\n",
    "\n",
    "</div>\n",
    "\n",
    "\n",
    "Let's practice what you have learned this morning. You will be using the [PyMC library](https://www.pymc.io/welcome.html) to do Bayesian inference and explore posterior distributions. \n",
    "\n",
    "You only workout the case of two variants A and B with **Value conversions** using the data from yesterday. In the first part of this hands-on session, you compared A and B variants in terms of how many conversions they generate, and estimated the relative uplift of conversions between the two. Now you will be comparing A and B variants in terms of how much revenue they generate, and estimate the relative uplift of revenue between the two.\n",
    "\n",
    "Below we put this setup into `PyMC` framework and find the posteriors. Let's start by importing the necessary libraries."
   ]
  },
  {
   "cell_type": "code",
   "execution_count": null,
   "id": "a78d9bca",
   "metadata": {},
   "outputs": [],
   "source": [
    "# Load libraries\n",
    "import matplotlib.pyplot as plt\n",
    "import arviz as az\n",
    "import pymc as pm"
   ]
  },
  {
   "cell_type": "markdown",
   "id": "3ab37046",
   "metadata": {},
   "source": [
    "## Your First Try\n",
    "\n",
    "Remember the example with synthetic data where we had a website with two variants A and B. Let's assume that we have a Bernoulli likelihood for each variant, and we can model the conversion rate $\\theta$ as Beta distribution for each variant. To start with, let's assume that we identical priors for both variants with $\\alpha = 1$ and $\\beta = 1$."
   ]
  },
  {
   "cell_type": "markdown",
   "id": "4b3b3543",
   "metadata": {},
   "source": [
    "Note that according to our data, variant B's visitors are more likely to sign up: $$\\theta_B \\approx 51\\% > \\theta_A \\approx 50\\%$$\n",
    "\n",
    "But their mean payment is smaller than variant A's visitors, because from data we observed that: \n",
    "\n",
    "$$\\frac{1}{\\lambda_B} \\approx 55 < \\frac{1}{\\lambda_A} \\approx 61$$\n",
    "\n",
    "Remember that the expected revenue per visitor was $\\frac{\\theta}{\\lambda}$. So, variant B has smaller expected revenue per visitor than variant A:\n",
    "\n",
    "$$ 0.51 \\times 55 <  0.50 \\times 61$$\n",
    "\n",
    "Therefore, the relative uplift should be negative: \n",
    "\n",
    "$$\\mathrm{uplift} = \\frac{\\frac{\\theta_B}{\\lambda_B}}{\\frac{\\theta_A}{\\lambda_A}} - 1 = \\frac{0.51 \\times 55}{0.50 \\times 61} - 1 = -0.079$$\n"
   ]
  },
  {
   "cell_type": "markdown",
   "id": "e9a17eb2",
   "metadata": {},
   "source": [
    "Let's assume that our prior for $\\lambda$ is Gamma distributed with $\\alpha = 1000$ and $\\beta = 30000$."
   ]
  },
  {
   "cell_type": "markdown",
   "id": "80bafd75",
   "metadata": {},
   "source": [
    "<div class=\"alert alert-success\">\n",
    "\n",
    "**Remarke on the notations**: we should be mindful that $\\theta$ and $\\lambda$ denote the true and unobserable parameters, and the observed values (e.g. conversion rate of 51\\%) should be denoted differently, e.g. by $\\hat{\\theta}$. For simplicity we keep the same notation for both the true and observed values.\n",
    "\n",
    "</div>"
   ]
  },
  {
   "cell_type": "code",
   "execution_count": null,
   "id": "67615ed9",
   "metadata": {},
   "outputs": [],
   "source": [
    "# as before we have variants A and B\n",
    "variants  = ['A', 'B']\n",
    "\n",
    "# let's define prior's parameters for the conversion rates\n",
    "conv_alpha, conv_beta = [1, 1]\n",
    "\n",
    "# let's define prior's parameters for the average payment \n",
    "payment_alpha, payment_beta = [1000, 30000]"
   ]
  },
  {
   "cell_type": "markdown",
   "id": "022e4478",
   "metadata": {},
   "source": [
    "Now, replace the `< >` with the correct values from the data:"
   ]
  },
  {
   "cell_type": "code",
   "execution_count": null,
   "id": "d9849f18",
   "metadata": {},
   "outputs": [],
   "source": [
    "# number of visitors for each variant \n",
    "visitors    = [< >, < >]\n",
    "\n",
    "# number of conversions (sign ups) for each variant\n",
    "conversion = [< >, < >]\n",
    "\n",
    "# sum of payments for each variant\n",
    "total_revenue = [< >, < >]"
   ]
  },
  {
   "cell_type": "markdown",
   "id": "ab67b829",
   "metadata": {},
   "source": [
    "The model, defined in the next cell, consist of four main components:\n",
    "- Prior\n",
    "- Likelihood\n",
    "- Uplift (difference between A and B)\n",
    "- Posterior\n",
    "\n",
    "Let's run the code"
   ]
  },
  {
   "cell_type": "code",
   "execution_count": null,
   "id": "38e6ae3d",
   "metadata": {},
   "outputs": [],
   "source": [
    "with pm.Model() as example_model:\n",
    "\n",
    "    #------------------------------------------------conversion rate model\n",
    "    # Priors for unknown model parameters\n",
    "    theta = pm.Beta(\"theta\", \n",
    "                    alpha = conv_alpha, \n",
    "                    beta  = conv_beta, \n",
    "                    shape = 2)\n",
    "    \n",
    "    # Likelihood of observations\n",
    "    converted = pm.Binomial(\"converted\", \n",
    "                            n        = visitors,      # total visitors\n",
    "                            observed = conversion,     # total visitors converted\n",
    "                            p        = theta,         # chance they convert\n",
    "                            shape    = 2)  \n",
    "    \n",
    "    #------------------------------------------------revenue model\n",
    "    # Priors for unknown model parameters\n",
    "    lamda = pm.Gamma( \"lamda\", \n",
    "                    alpha = payment_alpha,\n",
    "                    beta  = payment_beta,\n",
    "                    shape = 2)\n",
    "    \n",
    "    # Likelihood of observations\n",
    "    revenue = pm.Gamma(\"revenue\", \n",
    "                        alpha    = conversion,            # total visitors converted\n",
    "                        observed = total_revenue, \n",
    "                        beta     = lamda, \n",
    "                        shape    = 2)        \n",
    "    \n",
    "    # get the revenue per visitor\n",
    "    revenue_per_visitor = pm.Deterministic(\"revenue_per_visitor\", theta / lamda)\n",
    "\n",
    "    #------------------------------------------------relative uplifts\n",
    "    theta_uplift = pm.Deterministic(f\"theta uplift\", theta[1] / theta[0] - 1)\n",
    "    lamda_uplift = pm.Deterministic(f\"lamda uplift\", (1 / lamda[1]) / (1 / lamda[0]) - 1)\n",
    "    uplift       = pm.Deterministic(f\"uplift\", revenue_per_visitor[1] / revenue_per_visitor[0] - 1)\n",
    "\n",
    "    #------------------------------------------------posterior\n",
    "    # draw posterior samples\n",
    "    trace = pm.sample(draws=5000, return_inferencedata=True)"
   ]
  },
  {
   "cell_type": "code",
   "execution_count": null,
   "id": "6c47d5eb",
   "metadata": {},
   "outputs": [],
   "source": [
    "# Check the unobserved random variables:\n",
    "example_model.unobserved_RVs    "
   ]
  },
  {
   "cell_type": "code",
   "execution_count": null,
   "id": "8acfec92",
   "metadata": {},
   "outputs": [],
   "source": [
    "# Check the observed (synthetic) random variable:\n",
    "example_model.observed_RVs  "
   ]
  },
  {
   "cell_type": "code",
   "execution_count": null,
   "id": "4b414356",
   "metadata": {},
   "outputs": [],
   "source": [
    "# Check the deterministic random variable:\n",
    "example_model.deterministics"
   ]
  },
  {
   "cell_type": "code",
   "execution_count": null,
   "id": "c7deaa9c",
   "metadata": {},
   "outputs": [],
   "source": [
    "# check the trace, i.e. posterior distribution of the conversion rates\n",
    "trace"
   ]
  },
  {
   "cell_type": "code",
   "execution_count": null,
   "id": "735fed66",
   "metadata": {},
   "outputs": [],
   "source": [
    "# find out the shape of all trace.posterior variables\n",
    "for var in trace.posterior:\n",
    "    print(var, trace.posterior[var].shape)"
   ]
  },
  {
   "cell_type": "code",
   "execution_count": null,
   "id": "f799e679",
   "metadata": {},
   "outputs": [],
   "source": [
    "# plot all the three uplifts \n",
    "fig, axes = plt.subplots(1,3, figsize=(14,3), sharey=True)\n",
    "fig.suptitle(\"Posteriors\", fontsize=14)\n",
    "\n",
    "for i, var in enumerate([\"theta uplift\", \"lamda uplift\", \"uplift\"]):\n",
    "    az.plot_posterior(trace.posterior[var], ax=axes[i],)\n",
    "    axes[i].axvline(x=0, color=\"red\")\n",
    "\n",
    "plt.tight_layout()\n",
    "plt.show()"
   ]
  },
  {
   "cell_type": "markdown",
   "id": "80a85cc2",
   "metadata": {},
   "source": [
    "<div class=\"alert alert-info\">\n",
    "<h4>Task 1</h4>\n",
    "\n",
    "Check out the range of values posterior distributions can take, especially the mean and the values covered by HDI. Then answer the following questions:\n",
    "\n",
    "- What do you learn from the posterior distribution of uplift for $\\theta$?\n",
    "\n",
    "- What do you learn from the posterior distribution of uplift for $\\lambda$?\n",
    "\n",
    "- What do you learn from the posterior distribution of uplift for $\\frac{\\theta}{\\lambda}$? did you expect its HDI to include zero?\n",
    "<br>\n",
    "</div>\n",
    "\n"
   ]
  },
  {
   "cell_type": "markdown",
   "id": "aab6e274",
   "metadata": {},
   "source": [
    "write your answer here"
   ]
  },
  {
   "cell_type": "markdown",
   "id": "0738a6eb",
   "metadata": {},
   "source": [
    "Let's continue by exploring the posterior distributions."
   ]
  },
  {
   "cell_type": "code",
   "execution_count": null,
   "id": "51d9e563",
   "metadata": {},
   "outputs": [],
   "source": [
    "# plot all posterior distributions\n",
    "az.plot_trace(trace, compact=True, combined=True)\n",
    "plt.tight_layout();"
   ]
  },
  {
   "cell_type": "markdown",
   "id": "bec8f114",
   "metadata": {},
   "source": [
    "<div class=\"alert alert-info\">\n",
    "<h4>Task 2</h4>\n",
    "\n",
    "Change the prior for $\\lambda$ which is curently `Gamma(1000,30000)` and re-do the previous task.\n",
    "    \n",
    "<br>\n",
    "</div>\n",
    "\n"
   ]
  },
  {
   "cell_type": "markdown",
   "id": "13eff5cc",
   "metadata": {},
   "source": [
    "write your answer here"
   ]
  }
 ],
 "metadata": {
  "kernelspec": {
   "display_name": "Python [conda env:workshop] *",
   "language": "python",
   "name": "conda-env-workshop-py"
  },
  "language_info": {
   "codemirror_mode": {
    "name": "ipython",
    "version": 3
   },
   "file_extension": ".py",
   "mimetype": "text/x-python",
   "name": "python",
   "nbconvert_exporter": "python",
   "pygments_lexer": "ipython3",
   "version": "3.10.12"
  }
 },
 "nbformat": 4,
 "nbformat_minor": 5
}
